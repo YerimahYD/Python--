{
  "cells": [
    {
      "cell_type": "markdown",
      "metadata": {
        "id": "LmXvw_WGwLEa"
      },
      "source": [
        "#PYTHON BASICS FOR DATA SCIENCE#"
      ]
    },
    {
      "cell_type": "markdown",
      "metadata": {
        "id": "JRuq360gw0ij"
      },
      "source": [
        "![python logo.jfif](data:image/jpeg;base64,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)"
      ]
    },
    {
      "cell_type": "code",
      "execution_count": 2,
      "metadata": {
        "colab": {
          "base_uri": "https://localhost:8080/"
        },
        "id": "-GEsQWdes5hS",
        "outputId": "c9656e3a-46e1-4125-98cd-1d8d0d692ef3"
      },
      "outputs": [
        {
          "data": {
            "text/plain": [
              "126"
            ]
          },
          "execution_count": 2,
          "metadata": {},
          "output_type": "execute_result"
        }
      ],
      "source": [
        "56+70"
      ]
    },
    {
      "cell_type": "markdown",
      "metadata": {
        "id": "-OnaUvphyays"
      },
      "source": [
        "PYTHON **EXPRESSION**"
      ]
    },
    {
      "cell_type": "markdown",
      "metadata": {
        "id": "NFA8gbnDyosj"
      },
      "source": [
        "Python expressions are lines of code comprising of variables, values with operator that is executed to give me results. (operators are plus, subtraction etc signs. 500, 1000 are values)"
      ]
    },
    {
      "cell_type": "code",
      "execution_count": 3,
      "metadata": {
        "colab": {
          "base_uri": "https://localhost:8080/"
        },
        "id": "zK7Ny7Cmy9ne",
        "outputId": "dfa6f22b-f445-4f5a-eacc-0d8c0f3c4c20"
      },
      "outputs": [
        {
          "name": "stdout",
          "output_type": "stream",
          "text": [
            "5002.0\n"
          ]
        }
      ],
      "source": [
        "# another example of statement in python using variables and operators\n",
        "num1 = 5000\n",
        "num2 = 2000\n",
        "num3 = 1000\n",
        "\n",
        "result = num1 + num2 / num3 #This is an expression\n",
        "print(result)"
      ]
    },
    {
      "cell_type": "markdown",
      "metadata": {
        "id": "N5HG431e3dV8"
      },
      "source": [
        "**PYTHON** **VARIABLES**"
      ]
    },
    {
      "cell_type": "markdown",
      "metadata": {
        "id": "xDp5sTjm4-Y2"
      },
      "source": [
        "A variable is a memory location that is used in storing data values in our programs. Think of it as a storage just like a container with mobile devices are been stored."
      ]
    },
    {
      "cell_type": "code",
      "execution_count": 4,
      "metadata": {
        "id": "9rLxRxyo3oGT"
      },
      "outputs": [],
      "source": [
        "# Variable Declaration in Python\n",
        "\n",
        "name = \"Yusuf David Yerimah\""
      ]
    },
    {
      "cell_type": "code",
      "execution_count": 5,
      "metadata": {
        "colab": {
          "base_uri": "https://localhost:8080/",
          "height": 35
        },
        "id": "Xt7DNfAR663x",
        "outputId": "e62491f3-2a4b-46e9-f324-257bb8bc1371"
      },
      "outputs": [
        {
          "data": {
            "application/vnd.google.colaboratory.intrinsic+json": {
              "type": "string"
            },
            "text/plain": [
              "'Yusuf David Yerimah'"
            ]
          },
          "execution_count": 5,
          "metadata": {},
          "output_type": "execute_result"
        }
      ],
      "source": [
        "# Variable call\n",
        "name"
      ]
    },
    {
      "cell_type": "code",
      "execution_count": 6,
      "metadata": {
        "colab": {
          "base_uri": "https://localhost:8080/"
        },
        "id": "WiSOMv356-XS",
        "outputId": "2ca3adca-7393-43fd-c9a2-87dcda39e375"
      },
      "outputs": [
        {
          "data": {
            "text/plain": [
              "140440088754448"
            ]
          },
          "execution_count": 6,
          "metadata": {},
          "output_type": "execute_result"
        }
      ],
      "source": [
        "id(name)"
      ]
    },
    {
      "cell_type": "code",
      "execution_count": 7,
      "metadata": {
        "colab": {
          "base_uri": "https://localhost:8080/"
        },
        "id": "BGay8jBi8Vrk",
        "outputId": "13f7cc0c-33da-4380-f3c4-3370d4a5e9e1"
      },
      "outputs": [
        {
          "name": "stdout",
          "output_type": "stream",
          "text": [
            "140440515683792\n",
            "140440515683280\n",
            "140440515683056\n"
          ]
        }
      ],
      "source": [
        "# declaring python variables that stores numeric values only\n",
        "num1 = 5000\n",
        "num2 = 2000\n",
        "num3 = 1000\n",
        "\n",
        "print(id(num1), id(num2), id(num3), sep=\"\\n\")"
      ]
    },
    {
      "cell_type": "code",
      "execution_count": 8,
      "metadata": {
        "colab": {
          "base_uri": "https://localhost:8080/"
        },
        "id": "C-WcgV7r-FJP",
        "outputId": "e1818ddd-1f17-4f2b-f75f-70d8aa03b765"
      },
      "outputs": [
        {
          "name": "stdout",
          "output_type": "stream",
          "text": [
            "140440515683536\n",
            "140440515679696\n",
            "140440515683184\n"
          ]
        }
      ],
      "source": [
        "# declare variables that stores numbers with decimal points\n",
        "\n",
        "height = 5.6\n",
        "weight = 70.5\n",
        "temp = 37.9\n",
        "\n",
        "print(id(height), id(weight), id(temp), sep='\\n')"
      ]
    },
    {
      "cell_type": "markdown",
      "metadata": {
        "id": "82cE9KfGBr7T"
      },
      "source": [
        "**ASSIGNMENT**\n",
        "\n",
        "Learn the following and write a three page report of what your findings are:\n",
        "1. Rules in Naming python variables\n",
        "2. Data types in python.\n",
        "3. Why is python variable case sensitive?\n",
        "4. Python is regarded as a weak programming language, why?\n",
        "5. What are thye acceptable variable naming conventions in python.\n",
        "Explain them using code snippet.\n",
        "\n",
        "**Note**: The use of AI in writing is highly prohibited.\n",
        "\n",
        "Mode of Submission: submit your report to this mail"
      ]
    },
    {
      "cell_type": "markdown",
      "metadata": {
        "id": "yLOoicwbIS2s"
      },
      "source": [
        "**PYTHON VARIABLE NAMING RULES**\n",
        "1. You cannot begin a variable name with a number"
      ]
    },
    {
      "cell_type": "code",
      "execution_count": 9,
      "metadata": {
        "id": "kj456i6xINyZ"
      },
      "outputs": [],
      "source": [
        "# 2amount = 5000 #This is not allowed\n",
        "\n",
        "amount2 = 5000 #This is a valid example"
      ]
    },
    {
      "cell_type": "markdown",
      "metadata": {
        "id": "Swd7zdPCS7Mi"
      },
      "source": [
        "2. You must not begin a variable with any other special character except an underscore(_)"
      ]
    },
    {
      "cell_type": "code",
      "execution_count": 10,
      "metadata": {
        "colab": {
          "base_uri": "https://localhost:8080/",
          "height": 35
        },
        "id": "wDsr3eSsTHaS",
        "outputId": "6eb940d4-8e7c-4c94-ba6a-3c50631b72c3"
      },
      "outputs": [
        {
          "data": {
            "application/vnd.google.colaboratory.intrinsic+json": {
              "type": "string"
            },
            "text/plain": [
              "'Michale'"
            ]
          },
          "execution_count": 10,
          "metadata": {},
          "output_type": "execute_result"
        }
      ],
      "source": [
        "# $name = \"Michale\"\n",
        "_name_ = \"Michale\"\n",
        "_name_"
      ]
    },
    {
      "cell_type": "markdown",
      "metadata": {
        "id": "VQiyamaXUFpC"
      },
      "source": [
        "3. You cannot use python keywords or reserved as your variable"
      ]
    },
    {
      "cell_type": "code",
      "execution_count": 11,
      "metadata": {
        "colab": {
          "base_uri": "https://localhost:8080/",
          "height": 105
        },
        "id": "CxAtA-_TUP68",
        "outputId": "7a791bf0-ce8a-4a59-e20c-967fa99c8449"
      },
      "outputs": [
        {
          "ename": "SyntaxError",
          "evalue": "invalid syntax (<ipython-input-11-2722283898>, line 1)",
          "output_type": "error",
          "traceback": [
            "\u001b[0;36m  File \u001b[0;32m\"<ipython-input-11-2722283898>\"\u001b[0;36m, line \u001b[0;32m1\u001b[0m\n\u001b[0;31m    if = \"Michael\"\u001b[0m\n\u001b[0m       ^\u001b[0m\n\u001b[0;31mSyntaxError\u001b[0m\u001b[0;31m:\u001b[0m invalid syntax\n"
          ]
        }
      ],
      "source": [
        "lsif = \"Michael\""
      ]
    },
    {
      "cell_type": "markdown",
      "metadata": {
        "id": "jU49IKNXXrAL"
      },
      "source": [
        "PYTHON KEYWORDS OR RESERVED WORDS\n",
        "\n",
        "Reserved words, also known as keywords, are predefined terms in python that have specific meanings and purposes within the language's syntax and structure"
      ]
    },
    {
      "cell_type": "code",
      "execution_count": null,
      "metadata": {
        "id": "og5X4f2kYDrQ"
      },
      "outputs": [],
      "source": [
        "import keyword\n",
        "from keyword import kwlist\n",
        "for i in kwlist:\n",
        "  print(i)"
      ]
    },
    {
      "cell_type": "markdown",
      "metadata": {
        "id": "g1BbGpy_aGCs"
      },
      "source": [
        "In a case where you have two or more words to form your variable, there should be no space in between those words"
      ]
    },
    {
      "cell_type": "markdown",
      "metadata": {
        "id": "__r7sfsqbcDR"
      },
      "source": [
        "**NAMING CONVENTIONS IN PYTHON**\n",
        "\n",
        "1. Camel case\n",
        "2. underscore (snake case)\n",
        "3. Pascal naming convention\n",
        "\n"
      ]
    },
    {
      "cell_type": "markdown",
      "metadata": {
        "id": "5QvmZYf2cr7P"
      },
      "source": [
        "5. Python naming convention"
      ]
    },
    {
      "cell_type": "code",
      "execution_count": 12,
      "metadata": {
        "id": "0GWpUEcba1YQ"
      },
      "outputs": [],
      "source": [
        "firstName = \"Mike\" # This is a valid variable declaration using camel case\n",
        "first_name = \"Mike\" # This is a valid variable declaration using underscore\n",
        "FirstName = \"Mike\" # This is a valid variable declaration using pascal case"
      ]
    },
    {
      "cell_type": "code",
      "execution_count": 13,
      "metadata": {
        "id": "yxKXWE16b9uA"
      },
      "outputs": [],
      "source": [
        "name = \"Michael\"\n",
        "Name = \"Mike\"\n"
      ]
    },
    {
      "cell_type": "markdown",
      "metadata": {
        "id": "cbpiLGwAZQ5I"
      },
      "source": [
        "5. Python Variables are Case Sensitive"
      ]
    },
    {
      "cell_type": "markdown",
      "metadata": {
        "id": "G5nh3gD_Za5M"
      },
      "source": [
        "Plus: On no condition should your variable name exceed 38 characters"
      ]
    },
    {
      "cell_type": "markdown",
      "metadata": {
        "id": "SA_QM3l5Z_ER"
      },
      "source": [
        "**MULTIPLE LINES AND SINGLE LINE VARIABLE ASSIGNMENT IN PYTHON**"
      ]
    },
    {
      "cell_type": "code",
      "execution_count": 14,
      "metadata": {
        "id": "GOoS3qFhZX6m"
      },
      "outputs": [],
      "source": [
        "# Multiple lines variable assignment\n",
        "\n",
        "firstName = \"Yusuf\"\n",
        "lastName = \"Yerimah\"\n",
        "age = 39"
      ]
    },
    {
      "cell_type": "code",
      "execution_count": 15,
      "metadata": {
        "colab": {
          "base_uri": "https://localhost:8080/"
        },
        "id": "c40Rj2jwd857",
        "outputId": "8229adf6-950d-4015-89d0-82cb1701dbd9"
      },
      "outputs": [
        {
          "data": {
            "text/plain": [
              "39"
            ]
          },
          "execution_count": 15,
          "metadata": {},
          "output_type": "execute_result"
        }
      ],
      "source": [
        "# variable call\n",
        "firstName\n",
        "lastName\n",
        "age"
      ]
    },
    {
      "cell_type": "code",
      "execution_count": 16,
      "metadata": {
        "colab": {
          "base_uri": "https://localhost:8080/"
        },
        "id": "1mmuEVIjeETW",
        "outputId": "b0963044-7283-4b6b-c2ad-2a0b4c5b37b0"
      },
      "outputs": [
        {
          "name": "stdout",
          "output_type": "stream",
          "text": [
            "Yusuf\n",
            "Yerimah\n",
            "39\n"
          ]
        }
      ],
      "source": [
        "print(firstName)\n",
        "print(lastName)\n",
        "print(age)"
      ]
    },
    {
      "cell_type": "code",
      "execution_count": 17,
      "metadata": {
        "id": "LSd-2isBePt-"
      },
      "outputs": [],
      "source": [
        "firstName, lastName, age = 'Yusuf', 'Yerimah', 39"
      ]
    },
    {
      "cell_type": "code",
      "execution_count": 18,
      "metadata": {
        "colab": {
          "base_uri": "https://localhost:8080/"
        },
        "id": "yup_RqNXefGQ",
        "outputId": "cacd9d92-aded-4bf4-d428-c821e7dda4c8"
      },
      "outputs": [
        {
          "name": "stdout",
          "output_type": "stream",
          "text": [
            "Yusuf\n",
            "Yerimah\n",
            "39\n"
          ]
        }
      ],
      "source": [
        "# print(firstName)\n",
        "# print(lastName)\n",
        "# print(age)\n",
        "\n",
        "print(firstName, lastName, age, sep=\"\\n\") # The \\n means an escape character which means print value in the variable on a new line"
      ]
    },
    {
      "cell_type": "markdown",
      "metadata": {
        "id": "WO7rXmWug1pr"
      },
      "source": [
        "**PYTHON COMMENTS**\n",
        "Python comments are not executed by the interpreter. They are brief descriptions that help developers to know what they are doing when they revisit their code. This is a most practice for every progrmmer as it helps other developers understand what they were doing when that script is passed over\n",
        "\n",
        "**There are two types of comments in python:**\n",
        "1. Single comment: The single line comment is denoted using (#)\n",
        "2. Multiple line comments: The multiple line comments uses (''' ''')"
      ]
    },
    {
      "cell_type": "code",
      "execution_count": 19,
      "metadata": {
        "id": "0Aa4sdUygcUH"
      },
      "outputs": [],
      "source": [
        "# This is an example of a single line comment in python"
      ]
    },
    {
      "cell_type": "code",
      "execution_count": 20,
      "metadata": {
        "colab": {
          "base_uri": "https://localhost:8080/",
          "height": 35
        },
        "id": "iBmU-gfpk4My",
        "outputId": "efae3009-34b7-49ef-8028-10d597e96caf"
      },
      "outputs": [
        {
          "data": {
            "application/vnd.google.colaboratory.intrinsic+json": {
              "type": "string"
            },
            "text/plain": [
              "'\\nThis is an example of multiple lines comment in python\\nThis is an example of multiple lines comment in python\\nThis is an example of multiple lines comment in python\\n'"
            ]
          },
          "execution_count": 20,
          "metadata": {},
          "output_type": "execute_result"
        }
      ],
      "source": [
        "\"\"\"\n",
        "This is an example of multiple lines comment in python\n",
        "This is an example of multiple lines comment in python\n",
        "This is an example of multiple lines comment in python\n",
        "\"\"\""
      ]
    },
    {
      "cell_type": "markdown",
      "metadata": {
        "id": "ZEY4oCwcm27T"
      },
      "source": [
        "**CLASS TASK**\n",
        "\n",
        "Answer the following questions\n",
        "\n",
        "1. Write a python code to create five different variables and assign different values to them\n",
        "\n",
        "2. print out the memory addresses of each variable\n",
        "\n",
        "3. Create four variables illustrating the use of single line variable assigment in python\n",
        "\n",
        "4. List three rules in naming python.\n",
        "\n",
        "5. How can you show the values in three variables using one print statement? Answer this using illustration"
      ]
    },
    {
      "cell_type": "code",
      "execution_count": 21,
      "metadata": {
        "id": "oyU1CGA3lNzQ"
      },
      "outputs": [],
      "source": [
        "# Number 1\n",
        "num1 = 3000\n",
        "num2 = 2000\n",
        "num3 = 6000\n",
        "num4 = 500\n",
        "num5 = 1000"
      ]
    },
    {
      "cell_type": "code",
      "execution_count": 22,
      "metadata": {
        "colab": {
          "base_uri": "https://localhost:8080/"
        },
        "id": "e2lx__b4oI1M",
        "outputId": "4709720f-8bce-4242-d305-e431875de21d"
      },
      "outputs": [
        {
          "name": "stdout",
          "output_type": "stream",
          "text": [
            "140440515685264\n",
            "140440515685200\n",
            "140440515684752\n",
            "140440515685104\n",
            "140440515684944\n"
          ]
        }
      ],
      "source": [
        "# Number 2\n",
        "print(id(num1), id(num2), id(num3), id(num4), id(num5), sep='\\n')"
      ]
    },
    {
      "cell_type": "code",
      "execution_count": 23,
      "metadata": {
        "id": "4tHW4TwgoZvZ"
      },
      "outputs": [],
      "source": [
        "# Number 3\n",
        "name, height, weight, age = \"Abbas\", 1.7, 34, 25"
      ]
    },
    {
      "cell_type": "markdown",
      "metadata": {
        "id": "csw2Kl8UpBGe"
      },
      "source": [
        "Number 4\n",
        "\n",
        "1. Dont start naming a variable using numbers\n",
        "2. Dont start naming a variable using special characters\n",
        "3. Dont use python keywords or reserve words"
      ]
    },
    {
      "cell_type": "code",
      "execution_count": 24,
      "metadata": {
        "id": "O4iNcNEWo3JJ"
      },
      "outputs": [],
      "source": [
        "# Number 5\n",
        "firstName, lastName, age = \"Abbas\", \"Hussein\", 25"
      ]
    },
    {
      "cell_type": "code",
      "execution_count": 25,
      "metadata": {
        "colab": {
          "base_uri": "https://localhost:8080/"
        },
        "id": "YLLYyCNfp6RK",
        "outputId": "3b977a55-fc41-4cc2-ef54-5faa8365b471"
      },
      "outputs": [
        {
          "name": "stdout",
          "output_type": "stream",
          "text": [
            "Abbas\n",
            "Hussein\n",
            "25\n"
          ]
        }
      ],
      "source": [
        "print (firstName, lastName, age, sep=\"\\n\")"
      ]
    },
    {
      "cell_type": "markdown",
      "metadata": {
        "id": "2QZJXX8mw3IU"
      },
      "source": [
        "Data types in python\n",
        "\n",
        "Data types tell the computer the type of information you're storing and the operations that can be carried out on them"
      ]
    },
    {
      "cell_type": "markdown",
      "metadata": {
        "id": "Hntu9Ptjyn-F"
      },
      "source": [
        "- Numbers $\\rightarrow$ (int, float)\n",
        "- Booleans $\\rightarrow$ (True, False)\n",
        "- Str $\\rightarrow$ (Text)"
      ]
    },
    {
      "cell_type": "code",
      "execution_count": 26,
      "metadata": {
        "colab": {
          "base_uri": "https://localhost:8080/"
        },
        "id": "0VOsWkP2qD-K",
        "outputId": "34cbcd25-6d30-458f-9221-3a1d07a53daa"
      },
      "outputs": [
        {
          "data": {
            "text/plain": [
              "200"
            ]
          },
          "execution_count": 26,
          "metadata": {},
          "output_type": "execute_result"
        }
      ],
      "source": [
        "# Integers (int)\n",
        "# Addition +\n",
        "# Subtraction -\n",
        "# * Multiplication\n",
        "# / Division\n",
        "# % modulo\n",
        "# ** exponential\n",
        "# // floor division\n",
        "\n",
        "a = 40\n",
        "b = 5\n",
        "a * b\n",
        "\n"
      ]
    },
    {
      "cell_type": "code",
      "execution_count": 27,
      "metadata": {
        "colab": {
          "base_uri": "https://localhost:8080/"
        },
        "id": "JKR7xh3c1zHV",
        "outputId": "d029c131-92ec-47c7-8927-1e946b174904"
      },
      "outputs": [
        {
          "data": {
            "text/plain": [
              "int"
            ]
          },
          "execution_count": 27,
          "metadata": {},
          "output_type": "execute_result"
        }
      ],
      "source": [
        "type(a)"
      ]
    },
    {
      "cell_type": "code",
      "execution_count": 28,
      "metadata": {
        "colab": {
          "base_uri": "https://localhost:8080/"
        },
        "id": "MUhIvjLU11np",
        "outputId": "58312d09-f342-47a1-f637-c4de74d2a64a"
      },
      "outputs": [
        {
          "data": {
            "text/plain": [
              "float"
            ]
          },
          "execution_count": 28,
          "metadata": {},
          "output_type": "execute_result"
        }
      ],
      "source": [
        "c = 24.0\n",
        "type (c)"
      ]
    },
    {
      "cell_type": "code",
      "execution_count": 29,
      "metadata": {
        "colab": {
          "base_uri": "https://localhost:8080/"
        },
        "id": "Fwxmt2Wq2jTB",
        "outputId": "23ddc7e8-656b-42c4-dc27-51e0b2d67f00"
      },
      "outputs": [
        {
          "data": {
            "text/plain": [
              "200"
            ]
          },
          "execution_count": 29,
          "metadata": {},
          "output_type": "execute_result"
        }
      ],
      "source": [
        "a * b"
      ]
    },
    {
      "cell_type": "code",
      "execution_count": 30,
      "metadata": {
        "colab": {
          "base_uri": "https://localhost:8080/"
        },
        "id": "Q_4iwj904fvx",
        "outputId": "0d5d94db-2f30-47ec-d7aa-2d958c3f606c"
      },
      "outputs": [
        {
          "data": {
            "text/plain": [
              "8.0"
            ]
          },
          "execution_count": 30,
          "metadata": {},
          "output_type": "execute_result"
        }
      ],
      "source": [
        "a / b # division between two numbers will result in a float"
      ]
    },
    {
      "cell_type": "code",
      "execution_count": 31,
      "metadata": {
        "colab": {
          "base_uri": "https://localhost:8080/"
        },
        "id": "IRNjnWSv4jNT",
        "outputId": "c8803b52-2832-4c32-dca2-5522ed32b9ce"
      },
      "outputs": [
        {
          "data": {
            "text/plain": [
              "8"
            ]
          },
          "execution_count": 31,
          "metadata": {},
          "output_type": "execute_result"
        }
      ],
      "source": [
        "2 **3"
      ]
    },
    {
      "cell_type": "code",
      "execution_count": 32,
      "metadata": {
        "colab": {
          "base_uri": "https://localhost:8080/"
        },
        "id": "0Qnex9CY5YZE",
        "outputId": "43408d4e-400a-47c3-f4db-b7fc1b193543"
      },
      "outputs": [
        {
          "data": {
            "text/plain": [
              "2.0"
            ]
          },
          "execution_count": 32,
          "metadata": {},
          "output_type": "execute_result"
        }
      ],
      "source": [
        "4 ** 0.5"
      ]
    },
    {
      "cell_type": "code",
      "execution_count": 33,
      "metadata": {
        "colab": {
          "base_uri": "https://localhost:8080/"
        },
        "id": "F55o4RUw5qqP",
        "outputId": "5ca41479-c404-459f-bb20-0849a24f0c43"
      },
      "outputs": [
        {
          "data": {
            "text/plain": [
              "(40, 5)"
            ]
          },
          "execution_count": 33,
          "metadata": {},
          "output_type": "execute_result"
        }
      ],
      "source": [
        "a, b"
      ]
    },
    {
      "cell_type": "code",
      "execution_count": 34,
      "metadata": {
        "colab": {
          "base_uri": "https://localhost:8080/"
        },
        "id": "hUd2g7Q56YhN",
        "outputId": "3413686d-5aa7-4039-ac6a-e66e79177c88"
      },
      "outputs": [
        {
          "data": {
            "text/plain": [
              "8"
            ]
          },
          "execution_count": 34,
          "metadata": {},
          "output_type": "execute_result"
        }
      ],
      "source": [
        "a // b"
      ]
    },
    {
      "cell_type": "code",
      "execution_count": 35,
      "metadata": {
        "colab": {
          "base_uri": "https://localhost:8080/"
        },
        "id": "8aPeOnYd6c8Q",
        "outputId": "c8f76f8e-5f0b-49ac-fa33-59702985bed8"
      },
      "outputs": [
        {
          "data": {
            "text/plain": [
              "-3"
            ]
          },
          "execution_count": 35,
          "metadata": {},
          "output_type": "execute_result"
        }
      ],
      "source": [
        "# floor division always round down\n",
        "# ceiling division always round up\n",
        "\n",
        "-5 // 2 # it rounds this down to -3 (since -3 is smaller than -2.5)"
      ]
    },
    {
      "cell_type": "code",
      "execution_count": 36,
      "metadata": {
        "colab": {
          "base_uri": "https://localhost:8080/"
        },
        "id": "37XTaYsi7AIZ",
        "outputId": "95c0411b-508e-4208-e0b6-0e0f3c204789"
      },
      "outputs": [
        {
          "data": {
            "text/plain": [
              "1"
            ]
          },
          "execution_count": 36,
          "metadata": {},
          "output_type": "execute_result"
        }
      ],
      "source": [
        "5 % 2 # Modulo"
      ]
    },
    {
      "cell_type": "code",
      "execution_count": 37,
      "metadata": {
        "colab": {
          "base_uri": "https://localhost:8080/"
        },
        "id": "VK1UK1nO8EOm",
        "outputId": "4f9fbdc6-3774-46a6-c07f-e10389c9fb5f"
      },
      "outputs": [
        {
          "data": {
            "text/plain": [
              "1.129496402877698"
            ]
          },
          "execution_count": 37,
          "metadata": {},
          "output_type": "execute_result"
        }
      ],
      "source": [
        "c = 3.14\n",
        "d = 2.78\n",
        "c / d"
      ]
    },
    {
      "cell_type": "code",
      "execution_count": 38,
      "metadata": {
        "colab": {
          "base_uri": "https://localhost:8080/"
        },
        "id": "8FQCOpW88bws",
        "outputId": "d25ef037-365c-4a1a-ea92-c51adba78acd"
      },
      "outputs": [
        {
          "data": {
            "text/plain": [
              "8.7292"
            ]
          },
          "execution_count": 38,
          "metadata": {},
          "output_type": "execute_result"
        }
      ],
      "source": [
        "c * d"
      ]
    },
    {
      "cell_type": "code",
      "execution_count": 39,
      "metadata": {
        "colab": {
          "base_uri": "https://localhost:8080/"
        },
        "id": "6r50m6xs8fee",
        "outputId": "10089384-8c39-4d96-eeb0-4dc72162f004"
      },
      "outputs": [
        {
          "data": {
            "text/plain": [
              "1.0"
            ]
          },
          "execution_count": 39,
          "metadata": {},
          "output_type": "execute_result"
        }
      ],
      "source": [
        "c // d"
      ]
    },
    {
      "cell_type": "code",
      "execution_count": 40,
      "metadata": {
        "colab": {
          "base_uri": "https://localhost:8080/"
        },
        "id": "Gc0y-JLw8l19",
        "outputId": "8c66e9d2-bb80-4316-db2b-5d2fb82406ed"
      },
      "outputs": [
        {
          "data": {
            "text/plain": [
              "12.0"
            ]
          },
          "execution_count": 40,
          "metadata": {},
          "output_type": "execute_result"
        }
      ],
      "source": [
        "a // c"
      ]
    },
    {
      "cell_type": "code",
      "execution_count": 41,
      "metadata": {
        "colab": {
          "base_uri": "https://localhost:8080/"
        },
        "id": "fH9n56ei8oLo",
        "outputId": "801b477d-d78f-494c-a751-c007be1b6e23"
      },
      "outputs": [
        {
          "data": {
            "text/plain": [
              "1.0"
            ]
          },
          "execution_count": 41,
          "metadata": {},
          "output_type": "execute_result"
        }
      ],
      "source": [
        "c // 2"
      ]
    },
    {
      "cell_type": "markdown",
      "metadata": {
        "id": "kL9t4zTE9M3a"
      },
      "source": [
        "## Operator Precedence\n",
        "\n",
        "1. () brackets [left to right]\n",
        "2. ** exponents [right to left]\n",
        "3. -x, +x unary [left to right]\n",
        "4. *, /, //, % (multiplication, division, floor division, modulo) [left to right]\n",
        "5. +, - (addition, subtraction) [left to right]"
      ]
    },
    {
      "cell_type": "code",
      "execution_count": 42,
      "metadata": {
        "colab": {
          "base_uri": "https://localhost:8080/"
        },
        "id": "abNvYIty8quc",
        "outputId": "c8f3ffb7-7571-41bf-e989-77174fcc6a9d"
      },
      "outputs": [
        {
          "data": {
            "text/plain": [
              "3"
            ]
          },
          "execution_count": 42,
          "metadata": {},
          "output_type": "execute_result"
        }
      ],
      "source": [
        "-5 # unary - operator, here it attributes the negative sign to the number\n",
        "5-2 # binary - operator, here the negative sign just joins two numbers"
      ]
    },
    {
      "cell_type": "code",
      "execution_count": 43,
      "metadata": {
        "colab": {
          "base_uri": "https://localhost:8080/"
        },
        "id": "K3GUQMTfAfbP",
        "outputId": "68b213d2-e3f5-4262-c720-5999c9ea1d41"
      },
      "outputs": [
        {
          "data": {
            "text/plain": [
              "6.0"
            ]
          },
          "execution_count": 43,
          "metadata": {},
          "output_type": "execute_result"
        }
      ],
      "source": [
        "4 * 2 - 4 / 2\n",
        "\n"
      ]
    },
    {
      "cell_type": "code",
      "execution_count": 44,
      "metadata": {
        "colab": {
          "base_uri": "https://localhost:8080/"
        },
        "id": "r0wkd6HIBBd6",
        "outputId": "10fad431-4912-4053-f57c-28fefd55849a"
      },
      "outputs": [
        {
          "data": {
            "text/plain": [
              "256"
            ]
          },
          "execution_count": 44,
          "metadata": {},
          "output_type": "execute_result"
        }
      ],
      "source": [
        "2 ** 2 ** 3 # This goes from right to left"
      ]
    },
    {
      "cell_type": "code",
      "execution_count": 45,
      "metadata": {
        "colab": {
          "base_uri": "https://localhost:8080/"
        },
        "id": "vBTcHqZaBXHD",
        "outputId": "79fc601c-7dad-4e97-e233-637df87176fa"
      },
      "outputs": [
        {
          "data": {
            "text/plain": [
              "-8"
            ]
          },
          "execution_count": 45,
          "metadata": {},
          "output_type": "execute_result"
        }
      ],
      "source": [
        "-2 ** 3 # exponents takes precedence over unary number"
      ]
    },
    {
      "cell_type": "code",
      "execution_count": 46,
      "metadata": {
        "colab": {
          "base_uri": "https://localhost:8080/"
        },
        "id": "pcdKpup2CBtI",
        "outputId": "b6fe54fb-701c-4e0d-ceb9-e9f764da14e4"
      },
      "outputs": [
        {
          "data": {
            "text/plain": [
              "4"
            ]
          },
          "execution_count": 46,
          "metadata": {},
          "output_type": "execute_result"
        }
      ],
      "source": [
        "-2 * -2"
      ]
    },
    {
      "cell_type": "code",
      "execution_count": 47,
      "metadata": {
        "colab": {
          "base_uri": "https://localhost:8080/"
        },
        "id": "CUjNnymWCF4j",
        "outputId": "767662ad-7e96-4513-bb87-3fc38bd4585e"
      },
      "outputs": [
        {
          "data": {
            "text/plain": [
              "-8.34"
            ]
          },
          "execution_count": 47,
          "metadata": {},
          "output_type": "execute_result"
        }
      ],
      "source": [
        "#  Truncation, this gives only the integer and removes the decimal\n",
        "-8.34 / 1.0  #This will give the value without truncation"
      ]
    },
    {
      "cell_type": "code",
      "execution_count": 48,
      "metadata": {
        "colab": {
          "base_uri": "https://localhost:8080/"
        },
        "id": "W2VJKq4ZEOT8",
        "outputId": "8ec11bde-de7c-42d6-92f0-74e5d27661ea"
      },
      "outputs": [
        {
          "data": {
            "text/plain": [
              "-8"
            ]
          },
          "execution_count": 48,
          "metadata": {},
          "output_type": "execute_result"
        }
      ],
      "source": [
        "# With truncation\n",
        "int(-8.34 / 1.0) # so it removes the decimal part (.34) and gives only the integer"
      ]
    },
    {
      "cell_type": "code",
      "execution_count": 49,
      "metadata": {
        "colab": {
          "base_uri": "https://localhost:8080/"
        },
        "id": "rr6ucvZJEaZl",
        "outputId": "7c24d438-117f-4e8d-92cb-3f08b05ffc26"
      },
      "outputs": [
        {
          "data": {
            "text/plain": [
              "-0.4339999999999993"
            ]
          },
          "execution_count": 49,
          "metadata": {},
          "output_type": "execute_result"
        }
      ],
      "source": [
        "v = -8.434\n",
        "v - int(v)"
      ]
    },
    {
      "cell_type": "code",
      "execution_count": 50,
      "metadata": {
        "colab": {
          "base_uri": "https://localhost:8080/"
        },
        "id": "qQHr8Q4dn-6v",
        "outputId": "545bec39-c605-4aeb-e00b-606a7b4b5f62"
      },
      "outputs": [
        {
          "data": {
            "text/plain": [
              "-7"
            ]
          },
          "execution_count": 50,
          "metadata": {},
          "output_type": "execute_result"
        }
      ],
      "source": [
        "q = -7.63\n",
        "int(q)"
      ]
    },
    {
      "cell_type": "code",
      "execution_count": 51,
      "metadata": {
        "colab": {
          "base_uri": "https://localhost:8080/"
        },
        "id": "oXorv-BqE5-j",
        "outputId": "f3fe41ab-7d92-4290-ecf1-e955367c1a6d"
      },
      "outputs": [
        {
          "data": {
            "text/plain": [
              "-0.4339999999999993"
            ]
          },
          "execution_count": 51,
          "metadata": {},
          "output_type": "execute_result"
        }
      ],
      "source": [
        "-8.434 + 8"
      ]
    },
    {
      "cell_type": "code",
      "execution_count": 52,
      "metadata": {
        "colab": {
          "base_uri": "https://localhost:8080/"
        },
        "id": "LFHqNEEVFAFC",
        "outputId": "234a357b-bdbb-4095-f715-1703782eceec"
      },
      "outputs": [
        {
          "data": {
            "text/plain": [
              "bool"
            ]
          },
          "execution_count": 52,
          "metadata": {},
          "output_type": "execute_result"
        }
      ],
      "source": [
        "# Booleans (bool)\n",
        "\n",
        "is_true = True\n",
        "type(is_true)"
      ]
    },
    {
      "cell_type": "code",
      "execution_count": 52,
      "metadata": {
        "id": "BZEPm6KZFeat"
      },
      "outputs": [],
      "source": []
    },
    {
      "cell_type": "markdown",
      "metadata": {
        "id": "xSfNLnbbJSfP"
      },
      "source": [
        "# Boolean / Logical Operators\n",
        "\n",
        "- not $\\rightarrow$ Highest Precedence\n",
        "- and $\\rightarrow$ Second highest Precedence\n",
        "- or $\\rightarrow$ Lowest Precedence"
      ]
    },
    {
      "cell_type": "code",
      "execution_count": 53,
      "metadata": {
        "colab": {
          "base_uri": "https://localhost:8080/"
        },
        "id": "uBub1BZ3JfEr",
        "outputId": "77aaeb0f-0e57-4d18-c28a-b4ac1b5bac09"
      },
      "outputs": [
        {
          "name": "stdout",
          "output_type": "stream",
          "text": [
            "True\n",
            "False\n"
          ]
        }
      ],
      "source": [
        "# not - Negates the boolean value\n",
        "print(not False) # True\n",
        "print (not True) # False\n"
      ]
    },
    {
      "cell_type": "code",
      "execution_count": 54,
      "metadata": {
        "colab": {
          "base_uri": "https://localhost:8080/"
        },
        "id": "sXqteQpwKthl",
        "outputId": "6f466caa-9503-4cdd-d30e-cd0b8824b0e7"
      },
      "outputs": [
        {
          "name": "stdout",
          "output_type": "stream",
          "text": [
            "True\n",
            "False\n",
            "False\n",
            "False\n"
          ]
        }
      ],
      "source": [
        "# and -- Returns True only when all the boolean values are true\n",
        "print(True and True) # True\n",
        "print(True and False) # False\n",
        "print(False and True) # False\n",
        "print(False and False) # False"
      ]
    },
    {
      "cell_type": "code",
      "execution_count": 55,
      "metadata": {
        "colab": {
          "base_uri": "https://localhost:8080/"
        },
        "id": "TkN2sGciMKyd",
        "outputId": "3d040341-fdc7-443b-c6f1-831fc3472700"
      },
      "outputs": [
        {
          "name": "stdout",
          "output_type": "stream",
          "text": [
            "True\n",
            "True\n",
            "True\n",
            "False\n"
          ]
        }
      ],
      "source": [
        "# or -- Return True if at least one is true\n",
        "print (True or True)\n",
        "print(True or False)\n",
        "print(False or True)\n",
        "print(False or False)"
      ]
    },
    {
      "cell_type": "code",
      "execution_count": 56,
      "metadata": {
        "colab": {
          "base_uri": "https://localhost:8080/"
        },
        "id": "IvnyB1o7PKYj",
        "outputId": "2b85e6c4-2235-4cad-e8ec-85b0327a3eda"
      },
      "outputs": [
        {
          "data": {
            "text/plain": [
              "True"
            ]
          },
          "execution_count": 56,
          "metadata": {},
          "output_type": "execute_result"
        }
      ],
      "source": [
        "True or True and False\n",
        "# Firstly, it computes True and False because 'and' has a higher precedence than 'or'\n",
        "#Finally, it computes True or False because True and False = False (from the previous step)\n",
        "# True or False\n",
        "# True\n",
        "# 1 + 1 * 0\n"
      ]
    },
    {
      "cell_type": "code",
      "execution_count": 57,
      "metadata": {
        "colab": {
          "base_uri": "https://localhost:8080/"
        },
        "id": "wCEaL7LnStNL",
        "outputId": "e0032e5d-99ab-42e7-b87e-90b2017f9090"
      },
      "outputs": [
        {
          "data": {
            "text/plain": [
              "False"
            ]
          },
          "execution_count": 57,
          "metadata": {},
          "output_type": "execute_result"
        }
      ],
      "source": [
        "not False and not True or False\n",
        "# True and False or False\n",
        "# False or False\n",
        "False"
      ]
    },
    {
      "cell_type": "code",
      "execution_count": 58,
      "metadata": {
        "colab": {
          "base_uri": "https://localhost:8080/"
        },
        "id": "VpgPyZPSUvFQ",
        "outputId": "72f397fd-9fee-430b-af05-b677e095645c"
      },
      "outputs": [
        {
          "data": {
            "text/plain": [
              "False"
            ]
          },
          "execution_count": 58,
          "metadata": {},
          "output_type": "execute_result"
        }
      ],
      "source": [
        "(True or False) and False"
      ]
    },
    {
      "cell_type": "code",
      "execution_count": 59,
      "metadata": {
        "colab": {
          "base_uri": "https://localhost:8080/"
        },
        "id": "f6ZeJa-iV3l9",
        "outputId": "8464bf51-69bf-4f19-e469-51ce6642ab33"
      },
      "outputs": [
        {
          "name": "stdout",
          "output_type": "stream",
          "text": [
            "True\n",
            "False\n"
          ]
        }
      ],
      "source": [
        "a = True\n",
        "b = False\n",
        "print (not (a and b)) # Equivalent to NAND Gate\n",
        "print (not (a or b)) # Equivalent to NOR Gate"
      ]
    },
    {
      "cell_type": "markdown",
      "metadata": {
        "id": "YCWMwEf1XOsd"
      },
      "source": [
        "# Comparison Operators\n",
        "- == $\\rightarrow$ Equivalence operator\n",
        "- != $\\rightarrow$ Not Equal operator\n",
        "- \\> $\\rightarrow$ Greater than operator # The slash (\\) is called escape character\n",
        "- < $\\rightarrow$ Less than operator\n",
        "- \\>= $\\rightarrow$ Greater than or equal to operator\n",
        "- <= $\\rightarrow$ Less than equal to operator"
      ]
    },
    {
      "cell_type": "code",
      "execution_count": 60,
      "metadata": {
        "colab": {
          "base_uri": "https://localhost:8080/"
        },
        "id": "eGkJwozTWgwD",
        "outputId": "0396b954-0d2d-4744-e899-c8f12418bed9"
      },
      "outputs": [
        {
          "data": {
            "text/plain": [
              "True"
            ]
          },
          "execution_count": 60,
          "metadata": {},
          "output_type": "execute_result"
        }
      ],
      "source": [
        "var = 2\n",
        "var == 2"
      ]
    },
    {
      "cell_type": "code",
      "execution_count": 61,
      "metadata": {
        "colab": {
          "base_uri": "https://localhost:8080/"
        },
        "id": "NfLNVB_WZlZE",
        "outputId": "8a0536c0-8467-45c7-81fc-9409522d1f22"
      },
      "outputs": [
        {
          "data": {
            "text/plain": [
              "2"
            ]
          },
          "execution_count": 61,
          "metadata": {},
          "output_type": "execute_result"
        }
      ],
      "source": [
        "var"
      ]
    },
    {
      "cell_type": "code",
      "execution_count": 62,
      "metadata": {
        "colab": {
          "base_uri": "https://localhost:8080/"
        },
        "id": "YXgU8R6LZmZ9",
        "outputId": "614dfd04-9b09-4891-c808-92dbe7439b12"
      },
      "outputs": [
        {
          "data": {
            "text/plain": [
              "False"
            ]
          },
          "execution_count": 62,
          "metadata": {},
          "output_type": "execute_result"
        }
      ],
      "source": [
        "var != 2"
      ]
    },
    {
      "cell_type": "code",
      "execution_count": 63,
      "metadata": {
        "id": "Fw-s3vhHZ88G"
      },
      "outputs": [],
      "source": [
        "var1 = 3\n",
        "var2 = 2"
      ]
    },
    {
      "cell_type": "code",
      "execution_count": 64,
      "metadata": {
        "colab": {
          "base_uri": "https://localhost:8080/"
        },
        "id": "cT5r3Zalbex3",
        "outputId": "896578aa-a05f-4e46-d5ee-d17511156046"
      },
      "outputs": [
        {
          "data": {
            "text/plain": [
              "False"
            ]
          },
          "execution_count": 64,
          "metadata": {},
          "output_type": "execute_result"
        }
      ],
      "source": [
        "var1 == var2"
      ]
    },
    {
      "cell_type": "code",
      "execution_count": 65,
      "metadata": {
        "colab": {
          "base_uri": "https://localhost:8080/"
        },
        "id": "q_YWeDcMblyq",
        "outputId": "7dbf86f7-ca5a-4a61-dc66-d86d01fb204b"
      },
      "outputs": [
        {
          "data": {
            "text/plain": [
              "True"
            ]
          },
          "execution_count": 65,
          "metadata": {},
          "output_type": "execute_result"
        }
      ],
      "source": [
        "var1 != var2"
      ]
    },
    {
      "cell_type": "code",
      "execution_count": 65,
      "metadata": {
        "id": "nXRfRAC7qXLY"
      },
      "outputs": [],
      "source": []
    },
    {
      "cell_type": "code",
      "execution_count": 66,
      "metadata": {
        "colab": {
          "base_uri": "https://localhost:8080/"
        },
        "id": "z693ChtHbv6x",
        "outputId": "8a5e271d-67cc-4807-c34f-1f215e761994"
      },
      "outputs": [
        {
          "data": {
            "text/plain": [
              "True"
            ]
          },
          "execution_count": 66,
          "metadata": {},
          "output_type": "execute_result"
        }
      ],
      "source": [
        "var1 > var2"
      ]
    },
    {
      "cell_type": "code",
      "execution_count": 67,
      "metadata": {
        "colab": {
          "base_uri": "https://localhost:8080/"
        },
        "id": "4zOKLbRbbz1b",
        "outputId": "ff3ab2d6-e0cf-4253-b694-3a9a94b0da98"
      },
      "outputs": [
        {
          "data": {
            "text/plain": [
              "False"
            ]
          },
          "execution_count": 67,
          "metadata": {},
          "output_type": "execute_result"
        }
      ],
      "source": [
        "var1 < var2"
      ]
    },
    {
      "cell_type": "code",
      "execution_count": 68,
      "metadata": {
        "colab": {
          "base_uri": "https://localhost:8080/"
        },
        "id": "YcG7749sb4x1",
        "outputId": "dfc6f034-a309-4cf7-f51a-f3e4052a0139"
      },
      "outputs": [
        {
          "data": {
            "text/plain": [
              "(3, 3)"
            ]
          },
          "execution_count": 68,
          "metadata": {},
          "output_type": "execute_result"
        }
      ],
      "source": [
        "var2 = 3\n",
        "var1, var2"
      ]
    },
    {
      "cell_type": "code",
      "execution_count": 69,
      "metadata": {
        "colab": {
          "base_uri": "https://localhost:8080/"
        },
        "id": "bFcv4o1TcJec",
        "outputId": "54824aa4-e403-4f33-bc16-21dc4d3b0beb"
      },
      "outputs": [
        {
          "data": {
            "text/plain": [
              "True"
            ]
          },
          "execution_count": 69,
          "metadata": {},
          "output_type": "execute_result"
        }
      ],
      "source": [
        "var1 >= var2\n",
        "# var1 > var2 or var1 == var2"
      ]
    },
    {
      "cell_type": "code",
      "execution_count": 70,
      "metadata": {
        "colab": {
          "base_uri": "https://localhost:8080/"
        },
        "id": "fdOY6k5_cssj",
        "outputId": "764043ae-a662-4810-a8ce-ff84ed9b061d"
      },
      "outputs": [
        {
          "data": {
            "text/plain": [
              "True"
            ]
          },
          "execution_count": 70,
          "metadata": {},
          "output_type": "execute_result"
        }
      ],
      "source": [
        "var1 > var2 # Assume var2 is 3. It's going to check if var1 is greater than 3 or 4 and above (assume var1 is an integer)\n",
        "var1 >= var2 # Assume var2 is 3. It's going to check if var1 is 3 or above. Assume var1 is an integer.\n"
      ]
    },
    {
      "cell_type": "code",
      "execution_count": 71,
      "metadata": {
        "colab": {
          "base_uri": "https://localhost:8080/"
        },
        "id": "UPFJcvKgcZ3O",
        "outputId": "ccb3ab28-0b5e-496a-e289-75c9eb183e79"
      },
      "outputs": [
        {
          "data": {
            "text/plain": [
              "True"
            ]
          },
          "execution_count": 71,
          "metadata": {},
          "output_type": "execute_result"
        }
      ],
      "source": [
        "var3 = 3.00000000001\n",
        "var3 > var2"
      ]
    },
    {
      "cell_type": "markdown",
      "metadata": {
        "id": "Cvx9hSaqeJDh"
      },
      "source": [
        "## CONDITIONAL STATEMENTS\n",
        "\n",
        "- if, elif, else\n",
        "- match, case"
      ]
    },
    {
      "cell_type": "code",
      "execution_count": 72,
      "metadata": {
        "colab": {
          "base_uri": "https://localhost:8080/"
        },
        "id": "wnCT6uYbdgzc",
        "outputId": "bba56a42-cc25-4521-b66a-d4c5987c1939"
      },
      "outputs": [
        {
          "name": "stdout",
          "output_type": "stream",
          "text": [
            "You are not old enough!\n",
            "1\n",
            "2\n",
            "3\n",
            "4\n",
            "Hello\n"
          ]
        }
      ],
      "source": [
        "# IF statement\n",
        "minimum_age = 18\n",
        "age = 12\n",
        "if age < minimum_age:\n",
        "  print(\"You are not old enough!\")\n",
        "  print(1)\n",
        "  print(2)\n",
        "  print(3)\n",
        "  print(4)\n",
        "print(\"Hello\")"
      ]
    },
    {
      "cell_type": "code",
      "execution_count": 73,
      "metadata": {
        "colab": {
          "base_uri": "https://localhost:8080/"
        },
        "id": "ApgBjfAZhbya",
        "outputId": "daa64e88-c63e-4e4f-93f4-c987a5cc05aa"
      },
      "outputs": [
        {
          "data": {
            "text/plain": [
              "True"
            ]
          },
          "execution_count": 73,
          "metadata": {},
          "output_type": "execute_result"
        }
      ],
      "source": [
        "age < minimum_age"
      ]
    },
    {
      "cell_type": "code",
      "execution_count": 74,
      "metadata": {
        "colab": {
          "base_uri": "https://localhost:8080/"
        },
        "id": "l3sTztUUifT4",
        "outputId": "37f86e68-464f-46c7-bf55-0dc0250336bf"
      },
      "outputs": [
        {
          "name": "stdout",
          "output_type": "stream",
          "text": [
            "Always run\n"
          ]
        }
      ],
      "source": [
        "if False:\n",
        "  print(\"This statement is True\")\n",
        "print(\"Always run\")"
      ]
    },
    {
      "cell_type": "code",
      "execution_count": 75,
      "metadata": {
        "colab": {
          "base_uri": "https://localhost:8080/"
        },
        "id": "tTc-zEouivPc",
        "outputId": "48d5e2b3-1bdd-4803-c53e-3107f1551a43"
      },
      "outputs": [
        {
          "name": "stdout",
          "output_type": "stream",
          "text": [
            "This statement is True\n"
          ]
        }
      ],
      "source": [
        "# ELSE statement\n",
        "\n",
        "if True:\n",
        "  print('This statement is True')\n",
        "else:\n",
        "  print('This statement is False')"
      ]
    },
    {
      "cell_type": "code",
      "execution_count": 76,
      "metadata": {
        "colab": {
          "base_uri": "https://localhost:8080/"
        },
        "id": "VNJP36SSkJqH",
        "outputId": "8d5b932b-3adc-488e-d89f-37d8c2bbe4f9"
      },
      "outputs": [
        {
          "name": "stdout",
          "output_type": "stream",
          "text": [
            "This statement is False\n"
          ]
        }
      ],
      "source": [
        "if False:\n",
        "  print(\"This statement is True\")\n",
        "else:\n",
        "  print(\"This statement is False\")"
      ]
    },
    {
      "cell_type": "code",
      "execution_count": 77,
      "metadata": {
        "colab": {
          "base_uri": "https://localhost:8080/"
        },
        "id": "M_kLB2nFkeI_",
        "outputId": "4802d103-f9de-4ac1-edf0-2c26e39a5e42"
      },
      "outputs": [
        {
          "name": "stdout",
          "output_type": "stream",
          "text": [
            "You are barely old enough\n"
          ]
        }
      ],
      "source": [
        "barely_old_enough = 18\n",
        "old_enough = 21\n",
        "age = 20\n",
        "\n",
        "if age < barely_old_enough:\n",
        "  # check if age < 18\n",
        "  print(\"You are not old enough\")\n",
        "elif age < old_enough:\n",
        "  # check if age < 21 and age >= 18\n",
        "  print(\"You are barely old enough\")\n",
        "else:\n",
        "  # check if age >= 21\n",
        "  print(\"Welcome, you are old enough\")\n"
      ]
    },
    {
      "cell_type": "code",
      "execution_count": 78,
      "metadata": {
        "colab": {
          "base_uri": "https://localhost:8080/"
        },
        "id": "HgVzGq3voCoN",
        "outputId": "406be684-5e50-431c-a0ec-d891e6f286c0"
      },
      "outputs": [
        {
          "name": "stdout",
          "output_type": "stream",
          "text": [
            "You are barely old enough\n"
          ]
        }
      ],
      "source": [
        "barely_old_enough = 18\n",
        "old_enough = 21\n",
        "age = 20\n",
        "\n",
        "if age < old_enough:\n",
        "  # check if age < 21\n",
        "  print(\"You are barely old enough\")\n",
        "elif age < barely_old_enough:\n",
        "  # check if age < 18\n",
        "  print(\"You are not old enough\")\n",
        "else:\n",
        "  # check if age >= 21\n",
        "  print(\"Welcome, you are old enough\")\n"
      ]
    },
    {
      "cell_type": "code",
      "execution_count": 79,
      "metadata": {
        "colab": {
          "base_uri": "https://localhost:8080/"
        },
        "id": "N-F1QeIVzz85",
        "outputId": "0ba598f1-70b9-4b1f-9f4e-baf7b50efe4c"
      },
      "outputs": [
        {
          "data": {
            "text/plain": [
              "False"
            ]
          },
          "execution_count": 79,
          "metadata": {},
          "output_type": "execute_result"
        }
      ],
      "source": [
        "(23 % 2) == 0"
      ]
    },
    {
      "cell_type": "code",
      "execution_count": 80,
      "metadata": {
        "colab": {
          "base_uri": "https://localhost:8080/"
        },
        "id": "6AICRHAG0gHh",
        "outputId": "37a37711-3d2e-4687-8e6a-15e1e315bcb3"
      },
      "outputs": [
        {
          "data": {
            "text/plain": [
              "False"
            ]
          },
          "execution_count": 80,
          "metadata": {},
          "output_type": "execute_result"
        }
      ],
      "source": [
        "age = 30\n",
        "age < 18 and age % 2 == 0 # Even numbers less than eighteen"
      ]
    },
    {
      "cell_type": "code",
      "execution_count": 81,
      "metadata": {
        "colab": {
          "base_uri": "https://localhost:8080/"
        },
        "id": "HT3IgF3U05xY",
        "outputId": "2f2d9891-b70e-4aaf-b692-791c661034b6"
      },
      "outputs": [
        {
          "data": {
            "text/plain": [
              "False"
            ]
          },
          "execution_count": 81,
          "metadata": {},
          "output_type": "execute_result"
        }
      ],
      "source": [
        "age = 19\n",
        "age < 18 or age % 2 == 0 # all numbers less than eighteen or all even numbers"
      ]
    },
    {
      "cell_type": "code",
      "execution_count": 82,
      "metadata": {
        "id": "rbHtOLy41M_U"
      },
      "outputs": [],
      "source": [
        "# 85cd a3ec 7763 2651 -- Back up  code for Qserver"
      ]
    },
    {
      "cell_type": "markdown",
      "metadata": {
        "id": "qOEsx_Rk_LX6"
      },
      "source": [
        "## String indexing\n",
        "String Indexing is a method used to get a character at a certain position from a string."
      ]
    },
    {
      "cell_type": "code",
      "execution_count": 83,
      "metadata": {
        "id": "H21ZEMiO_8Sq"
      },
      "outputs": [],
      "source": [
        "string = \"I am Yusuf Yerimah\""
      ]
    },
    {
      "cell_type": "markdown",
      "metadata": {
        "id": "bJl94VeIAtBh"
      },
      "source": [
        "### String Slicing\n",
        "This is a method used to get a part of a string. It can be a single character or a substring of thwe original string."
      ]
    },
    {
      "cell_type": "code",
      "execution_count": 84,
      "metadata": {
        "id": "E1sfAXWcA9ZX"
      },
      "outputs": [],
      "source": [
        "string = \"I am Yusuf Yerimah\"\n"
      ]
    },
    {
      "cell_type": "code",
      "execution_count": 85,
      "metadata": {
        "colab": {
          "base_uri": "https://localhost:8080/",
          "height": 35
        },
        "id": "PeObjoPyBiI4",
        "outputId": "aa7ba769-04eb-49b0-d64c-b2c6fa638b60"
      },
      "outputs": [
        {
          "data": {
            "application/vnd.google.colaboratory.intrinsic+json": {
              "type": "string"
            },
            "text/plain": [
              "'am Y'"
            ]
          },
          "execution_count": 85,
          "metadata": {},
          "output_type": "execute_result"
        }
      ],
      "source": [
        "string[2:6]"
      ]
    },
    {
      "cell_type": "code",
      "execution_count": 86,
      "metadata": {
        "colab": {
          "base_uri": "https://localhost:8080/",
          "height": 35
        },
        "id": "9Y3CU623BkZY",
        "outputId": "9d0b4da8-2ac6-4681-8799-2d956562863d"
      },
      "outputs": [
        {
          "data": {
            "application/vnd.google.colaboratory.intrinsic+json": {
              "type": "string"
            },
            "text/plain": [
              "'suf'"
            ]
          },
          "execution_count": 86,
          "metadata": {},
          "output_type": "execute_result"
        }
      ],
      "source": [
        "string[7:10]"
      ]
    },
    {
      "cell_type": "code",
      "execution_count": 87,
      "metadata": {
        "colab": {
          "base_uri": "https://localhost:8080/",
          "height": 35
        },
        "id": "5ZypQKFvDMXb",
        "outputId": "c03fd054-19a1-4b6f-ca20-e0c3ae2ce6e3"
      },
      "outputs": [
        {
          "data": {
            "application/vnd.google.colaboratory.intrinsic+json": {
              "type": "string"
            },
            "text/plain": [
              "'fus'"
            ]
          },
          "execution_count": 87,
          "metadata": {},
          "output_type": "execute_result"
        }
      ],
      "source": [
        "string[9:6:-1]"
      ]
    },
    {
      "cell_type": "code",
      "execution_count": 88,
      "metadata": {
        "colab": {
          "base_uri": "https://localhost:8080/",
          "height": 35
        },
        "id": "0KpiY3hyDtsu",
        "outputId": "8808276f-76cd-4a13-8823-503944046a0c"
      },
      "outputs": [
        {
          "data": {
            "application/vnd.google.colaboratory.intrinsic+json": {
              "type": "string"
            },
            "text/plain": [
              "'hamireY fusuY ma I'"
            ]
          },
          "execution_count": 88,
          "metadata": {},
          "output_type": "execute_result"
        }
      ],
      "source": [
        "string[::-1]"
      ]
    },
    {
      "cell_type": "code",
      "execution_count": 89,
      "metadata": {
        "colab": {
          "base_uri": "https://localhost:8080/",
          "height": 35
        },
        "id": "_IuoKsXZER-O",
        "outputId": "12de9f42-1053-4cd6-fb30-d779dda8646d"
      },
      "outputs": [
        {
          "data": {
            "application/vnd.google.colaboratory.intrinsic+json": {
              "type": "string"
            },
            "text/plain": [
              "'hmrYfsYm '"
            ]
          },
          "execution_count": 89,
          "metadata": {},
          "output_type": "execute_result"
        }
      ],
      "source": [
        "string[::-2] # This is called step\n",
        "#It keeps skipping at one interval"
      ]
    },
    {
      "cell_type": "code",
      "execution_count": 90,
      "metadata": {
        "colab": {
          "base_uri": "https://localhost:8080/",
          "height": 35
        },
        "id": "6eupQyLlE31U",
        "outputId": "610cb219-69aa-4c61-88cd-7a9e4b418c7e"
      },
      "outputs": [
        {
          "data": {
            "application/vnd.google.colaboratory.intrinsic+json": {
              "type": "string"
            },
            "text/plain": [
              "'Imufem'"
            ]
          },
          "execution_count": 90,
          "metadata": {},
          "output_type": "execute_result"
        }
      ],
      "source": [
        "string[::3]"
      ]
    },
    {
      "cell_type": "code",
      "execution_count": 91,
      "metadata": {
        "colab": {
          "base_uri": "https://localhost:8080/",
          "height": 35
        },
        "id": "Wsu9tJ0vFGxt",
        "outputId": "f1237894-baf6-4d41-9656-6a9c7b83b85d"
      },
      "outputs": [
        {
          "data": {
            "application/vnd.google.colaboratory.intrinsic+json": {
              "type": "string"
            },
            "text/plain": [
              "'hI'"
            ]
          },
          "execution_count": 91,
          "metadata": {},
          "output_type": "execute_result"
        }
      ],
      "source": [
        "string[::-17]"
      ]
    },
    {
      "cell_type": "code",
      "execution_count": 92,
      "metadata": {
        "colab": {
          "base_uri": "https://localhost:8080/",
          "height": 35
        },
        "id": "OavQyoyUFcdL",
        "outputId": "ca5e9f1a-18cd-4590-c713-9cfe6d92d7af"
      },
      "outputs": [
        {
          "data": {
            "application/vnd.google.colaboratory.intrinsic+json": {
              "type": "string"
            },
            "text/plain": [
              "'I am Yusuf Yerimah'"
            ]
          },
          "execution_count": 92,
          "metadata": {},
          "output_type": "execute_result"
        }
      ],
      "source": [
        "string"
      ]
    },
    {
      "cell_type": "code",
      "execution_count": 93,
      "metadata": {
        "colab": {
          "base_uri": "https://localhost:8080/",
          "height": 35
        },
        "id": "Pnwv2Y2NGZCw",
        "outputId": "295b59cc-24ad-4734-830f-a5fb118ff4f1"
      },
      "outputs": [
        {
          "data": {
            "application/vnd.google.colaboratory.intrinsic+json": {
              "type": "string"
            },
            "text/plain": [
              "'sfY'"
            ]
          },
          "execution_count": 93,
          "metadata": {},
          "output_type": "execute_result"
        }
      ],
      "source": [
        "string[7:13:2]"
      ]
    },
    {
      "cell_type": "markdown",
      "metadata": {
        "id": "oVgiKis-OUqu"
      },
      "source": [
        "### String Methods"
      ]
    },
    {
      "cell_type": "code",
      "execution_count": 94,
      "metadata": {
        "id": "i3ybovj5GeHq"
      },
      "outputs": [],
      "source": [
        "string = \"Hello world\"\n"
      ]
    },
    {
      "cell_type": "code",
      "execution_count": 95,
      "metadata": {
        "colab": {
          "base_uri": "https://localhost:8080/",
          "height": 35
        },
        "id": "MkchFC7qOl8_",
        "outputId": "4251958c-7bcf-40c6-d46c-8ce5e1b7ffe4"
      },
      "outputs": [
        {
          "data": {
            "application/vnd.google.colaboratory.intrinsic+json": {
              "type": "string"
            },
            "text/plain": [
              "'Hello World'"
            ]
          },
          "execution_count": 95,
          "metadata": {},
          "output_type": "execute_result"
        }
      ],
      "source": [
        "string.title() # (Title) Makes the first letter of every word in a string capital and the remaining small letters."
      ]
    },
    {
      "cell_type": "code",
      "execution_count": 96,
      "metadata": {
        "colab": {
          "base_uri": "https://localhost:8080/",
          "height": 35
        },
        "id": "r2Eka9epPVAl",
        "outputId": "ad75d2ab-3f11-4f5f-97a4-d02a4159bfe8"
      },
      "outputs": [
        {
          "data": {
            "application/vnd.google.colaboratory.intrinsic+json": {
              "type": "string"
            },
            "text/plain": [
              "'Hello world'"
            ]
          },
          "execution_count": 96,
          "metadata": {},
          "output_type": "execute_result"
        }
      ],
      "source": [
        "string2 = 'hello WORLD'\n",
        "string2.capitalize() # Makes only the first letter of the first word capital and the others small"
      ]
    },
    {
      "cell_type": "code",
      "execution_count": 97,
      "metadata": {
        "colab": {
          "base_uri": "https://localhost:8080/",
          "height": 35
        },
        "id": "ZEC6KOuMPqtW",
        "outputId": "676b670a-3eb9-4f14-a798-66230d199156"
      },
      "outputs": [
        {
          "data": {
            "application/vnd.google.colaboratory.intrinsic+json": {
              "type": "string"
            },
            "text/plain": [
              "'HELLO WORLD'"
            ]
          },
          "execution_count": 97,
          "metadata": {},
          "output_type": "execute_result"
        }
      ],
      "source": [
        "string3 = \"hEllo wORld\"\n",
        "string3.upper()"
      ]
    },
    {
      "cell_type": "code",
      "execution_count": 98,
      "metadata": {
        "colab": {
          "base_uri": "https://localhost:8080/",
          "height": 35
        },
        "id": "HGMDKmIuRwbQ",
        "outputId": "6ce24496-bbfb-467d-b809-559d07d91624"
      },
      "outputs": [
        {
          "data": {
            "application/vnd.google.colaboratory.intrinsic+json": {
              "type": "string"
            },
            "text/plain": [
              "'hello world'"
            ]
          },
          "execution_count": 98,
          "metadata": {},
          "output_type": "execute_result"
        }
      ],
      "source": [
        "string3.lower()"
      ]
    },
    {
      "cell_type": "code",
      "execution_count": 99,
      "metadata": {
        "colab": {
          "base_uri": "https://localhost:8080/"
        },
        "id": "2pE0BODXR8Dy",
        "outputId": "50a32519-002d-4345-de6c-cad7b18bf63b"
      },
      "outputs": [
        {
          "data": {
            "text/plain": [
              "True"
            ]
          },
          "execution_count": 99,
          "metadata": {},
          "output_type": "execute_result"
        }
      ],
      "source": [
        "new_string = '42'\n",
        "new_number = 42\n",
        "\n",
        "new_string.isdigit() # It checks within the strings and say if they all are numbers within them and gives true or false"
      ]
    },
    {
      "cell_type": "code",
      "execution_count": 100,
      "metadata": {
        "colab": {
          "base_uri": "https://localhost:8080/"
        },
        "id": "TWG0ulQAT2bm",
        "outputId": "d72a0c53-bdaa-46c5-b4b8-554752caff81"
      },
      "outputs": [
        {
          "data": {
            "text/plain": [
              "False"
            ]
          },
          "execution_count": 100,
          "metadata": {},
          "output_type": "execute_result"
        }
      ],
      "source": [
        "new_point = '4.2' # This will give false because 4 is a number, 2 is a number but . is not a number, so it is false (Note even negative sign is not a number)\n",
        "new_point.isdigit()"
      ]
    },
    {
      "cell_type": "markdown",
      "metadata": {
        "id": "2ZLQ6Zr0X36W"
      },
      "source": [
        "### Data Structures"
      ]
    },
    {
      "cell_type": "markdown",
      "metadata": {
        "id": "b1UfiPc5ZyqF"
      },
      "source": [
        "#### Common data structures\n",
        "- `list` $\\rightarrow$ mutable\n",
        "- `tuple` $\\rightarrow$ immutable\n",
        "- `dictionary` $\\rightarrow$ mutable\n",
        "- `set` $\\rightarrow$ mutable\n",
        "- `frozenset` $\\rightarrow$ immutable"
      ]
    },
    {
      "cell_type": "code",
      "execution_count": 101,
      "metadata": {
        "colab": {
          "base_uri": "https://localhost:8080/"
        },
        "id": "p8GtQA5fWNAm",
        "outputId": "7c0810c3-0ec6-45cc-b08d-c43b159a5520"
      },
      "outputs": [
        {
          "data": {
            "text/plain": [
              "10"
            ]
          },
          "execution_count": 101,
          "metadata": {},
          "output_type": "execute_result"
        }
      ],
      "source": [
        "# list\n",
        "nums = [1,2,3,4,5,6,7,8,9,10]\n",
        "len(nums)"
      ]
    },
    {
      "cell_type": "code",
      "execution_count": 102,
      "metadata": {
        "colab": {
          "base_uri": "https://localhost:8080/"
        },
        "id": "ysqOPNLjZBI5",
        "outputId": "ae1c6ac3-c1d0-4004-e06c-623f8930fc3a"
      },
      "outputs": [
        {
          "data": {
            "text/plain": [
              "1"
            ]
          },
          "execution_count": 102,
          "metadata": {},
          "output_type": "execute_result"
        }
      ],
      "source": [
        "nums[0]"
      ]
    },
    {
      "cell_type": "code",
      "execution_count": 103,
      "metadata": {
        "colab": {
          "base_uri": "https://localhost:8080/"
        },
        "id": "tpjYSuGAZEuz",
        "outputId": "c93da9a0-00cd-414d-c9a7-5df081b10ea0"
      },
      "outputs": [
        {
          "data": {
            "text/plain": [
              "9"
            ]
          },
          "execution_count": 103,
          "metadata": {},
          "output_type": "execute_result"
        }
      ],
      "source": [
        "nums[8]"
      ]
    },
    {
      "cell_type": "code",
      "execution_count": 104,
      "metadata": {
        "colab": {
          "base_uri": "https://localhost:8080/"
        },
        "id": "cM1xEluIZkYS",
        "outputId": "dd61b4d1-5db0-4cd2-d795-1942ed74e461"
      },
      "outputs": [
        {
          "data": {
            "text/plain": [
              "10"
            ]
          },
          "execution_count": 104,
          "metadata": {},
          "output_type": "execute_result"
        }
      ],
      "source": [
        "nums[-1]"
      ]
    },
    {
      "cell_type": "code",
      "execution_count": 105,
      "metadata": {
        "colab": {
          "base_uri": "https://localhost:8080/"
        },
        "id": "KPAfRKHuZmJ7",
        "outputId": "6b188128-0890-492a-f165-a894c62556d1"
      },
      "outputs": [
        {
          "data": {
            "text/plain": [
              "[1, 2, 3]"
            ]
          },
          "execution_count": 105,
          "metadata": {},
          "output_type": "execute_result"
        }
      ],
      "source": [
        "nums[:3]"
      ]
    },
    {
      "cell_type": "code",
      "execution_count": 106,
      "metadata": {
        "colab": {
          "base_uri": "https://localhost:8080/"
        },
        "id": "fTlszltLf-w3",
        "outputId": "f2ac6544-3d8d-4df2-f358-8450bc6cd2bb"
      },
      "outputs": [
        {
          "data": {
            "text/plain": [
              "[1, 2, 3, 4, 5, 6, 7, 8, 9, 10]"
            ]
          },
          "execution_count": 106,
          "metadata": {},
          "output_type": "execute_result"
        }
      ],
      "source": [
        "nums"
      ]
    },
    {
      "cell_type": "code",
      "execution_count": 107,
      "metadata": {
        "id": "_AeE05lkgjQJ"
      },
      "outputs": [],
      "source": [
        "nums[2] = 11"
      ]
    },
    {
      "cell_type": "code",
      "execution_count": 108,
      "metadata": {
        "colab": {
          "base_uri": "https://localhost:8080/"
        },
        "id": "WMdLK5NYgyQK",
        "outputId": "be4be1ff-1e33-40dc-fdbe-9a0ff00cdc62"
      },
      "outputs": [
        {
          "data": {
            "text/plain": [
              "[1, 2, 11, 4, 5, 6, 7, 8, 9, 10]"
            ]
          },
          "execution_count": 108,
          "metadata": {},
          "output_type": "execute_result"
        }
      ],
      "source": [
        "nums"
      ]
    },
    {
      "cell_type": "code",
      "execution_count": 109,
      "metadata": {
        "id": "bj7jmjL0gzpl"
      },
      "outputs": [],
      "source": [
        "nums.append(3)"
      ]
    },
    {
      "cell_type": "code",
      "execution_count": 110,
      "metadata": {
        "colab": {
          "base_uri": "https://localhost:8080/"
        },
        "id": "g2MJw6abhCGv",
        "outputId": "4e4bcb79-c48f-447e-a1e5-4fbe502c4701"
      },
      "outputs": [
        {
          "data": {
            "text/plain": [
              "[1, 2, 11, 4, 5, 6, 7, 8, 9, 10, 3]"
            ]
          },
          "execution_count": 110,
          "metadata": {},
          "output_type": "execute_result"
        }
      ],
      "source": [
        "nums"
      ]
    },
    {
      "cell_type": "code",
      "execution_count": 111,
      "metadata": {
        "id": "Blkn64mghSWk"
      },
      "outputs": [],
      "source": [
        "lst1 = [1,2,3]\n",
        "lst2 = [4,5,6]"
      ]
    },
    {
      "cell_type": "code",
      "execution_count": 112,
      "metadata": {
        "colab": {
          "base_uri": "https://localhost:8080/"
        },
        "id": "80I6CUfkhlZT",
        "outputId": "eb660277-e20d-43be-8d1d-467acf0bf4dd"
      },
      "outputs": [
        {
          "data": {
            "text/plain": [
              "([1, 2, 3], [4, 5, 6])"
            ]
          },
          "execution_count": 112,
          "metadata": {},
          "output_type": "execute_result"
        }
      ],
      "source": [
        "lst1,lst2"
      ]
    },
    {
      "cell_type": "code",
      "execution_count": 113,
      "metadata": {
        "colab": {
          "base_uri": "https://localhost:8080/"
        },
        "id": "m0bpYMZshnqp",
        "outputId": "172443e4-be2b-43d2-9c67-a670b0262a05"
      },
      "outputs": [
        {
          "data": {
            "text/plain": [
              "[1, 2, 3, 4, 5, 6]"
            ]
          },
          "execution_count": 113,
          "metadata": {},
          "output_type": "execute_result"
        }
      ],
      "source": [
        "lst1 + lst2"
      ]
    },
    {
      "cell_type": "code",
      "execution_count": 114,
      "metadata": {
        "colab": {
          "base_uri": "https://localhost:8080/"
        },
        "id": "uBGU34LVhzjF",
        "outputId": "2a655caa-385d-4058-f437-4a1e76d46fa5"
      },
      "outputs": [
        {
          "data": {
            "text/plain": [
              "[1, 2, 3]"
            ]
          },
          "execution_count": 114,
          "metadata": {},
          "output_type": "execute_result"
        }
      ],
      "source": [
        "lst1"
      ]
    },
    {
      "cell_type": "code",
      "execution_count": 115,
      "metadata": {
        "colab": {
          "base_uri": "https://localhost:8080/"
        },
        "id": "qwoA2lGuidPw",
        "outputId": "8393cad8-e43f-4bc9-d142-89815874d4ea"
      },
      "outputs": [
        {
          "data": {
            "text/plain": [
              "[4, 5, 6]"
            ]
          },
          "execution_count": 115,
          "metadata": {},
          "output_type": "execute_result"
        }
      ],
      "source": [
        "lst2"
      ]
    },
    {
      "cell_type": "code",
      "execution_count": 116,
      "metadata": {
        "id": "bNvetPHsigeM"
      },
      "outputs": [],
      "source": [
        "lst1.extend(lst2) # This extend method is used to extend the lst1 which was first mentioned and add lst2 to it"
      ]
    },
    {
      "cell_type": "code",
      "execution_count": 117,
      "metadata": {
        "colab": {
          "base_uri": "https://localhost:8080/"
        },
        "id": "TAaBLRp7jFg8",
        "outputId": "790310eb-a9a1-468e-b2a3-f3c139f503f9"
      },
      "outputs": [
        {
          "data": {
            "text/plain": [
              "[1, 2, 3, 4, 5, 6]"
            ]
          },
          "execution_count": 117,
          "metadata": {},
          "output_type": "execute_result"
        }
      ],
      "source": [
        "lst1"
      ]
    },
    {
      "cell_type": "code",
      "execution_count": 118,
      "metadata": {
        "colab": {
          "base_uri": "https://localhost:8080/"
        },
        "id": "RBEgDwz2jG2k",
        "outputId": "3add5e89-06e6-400a-e30c-37ff00fd1237"
      },
      "outputs": [
        {
          "data": {
            "text/plain": [
              "[4, 5, 6]"
            ]
          },
          "execution_count": 118,
          "metadata": {},
          "output_type": "execute_result"
        }
      ],
      "source": [
        "lst2"
      ]
    },
    {
      "cell_type": "code",
      "execution_count": 119,
      "metadata": {
        "id": "Zh6-YClFkcgO"
      },
      "outputs": [],
      "source": [
        "lst2.extend(lst1)"
      ]
    },
    {
      "cell_type": "code",
      "execution_count": 120,
      "metadata": {
        "colab": {
          "base_uri": "https://localhost:8080/"
        },
        "id": "Ywut1N10kr3t",
        "outputId": "33691913-652f-4f71-f24f-81e044c9c06a"
      },
      "outputs": [
        {
          "data": {
            "text/plain": [
              "[4, 5, 6, 1, 2, 3, 4, 5, 6]"
            ]
          },
          "execution_count": 120,
          "metadata": {},
          "output_type": "execute_result"
        }
      ],
      "source": [
        "lst2"
      ]
    },
    {
      "cell_type": "code",
      "execution_count": 121,
      "metadata": {
        "colab": {
          "base_uri": "https://localhost:8080/"
        },
        "id": "lMCFOnkIHnYY",
        "outputId": "77c421f9-e16a-4337-9a30-10b51689d923"
      },
      "outputs": [
        {
          "data": {
            "text/plain": [
              "6"
            ]
          },
          "execution_count": 121,
          "metadata": {},
          "output_type": "execute_result"
        }
      ],
      "source": [
        "lst2.pop()"
      ]
    },
    {
      "cell_type": "code",
      "execution_count": 122,
      "metadata": {
        "colab": {
          "base_uri": "https://localhost:8080/"
        },
        "id": "j1HNJujxm9on",
        "outputId": "d0eaa14b-e059-4c04-9364-c0409ed2e95b"
      },
      "outputs": [
        {
          "data": {
            "text/plain": [
              "[4, 5, 6, 1, 2, 3, 4, 5]"
            ]
          },
          "execution_count": 122,
          "metadata": {},
          "output_type": "execute_result"
        }
      ],
      "source": [
        "lst2"
      ]
    },
    {
      "cell_type": "code",
      "execution_count": 123,
      "metadata": {
        "colab": {
          "base_uri": "https://localhost:8080/"
        },
        "id": "EkSLxjxXm_Ta",
        "outputId": "093cb445-fff5-4303-fa4e-4caa38a2e7d4"
      },
      "outputs": [
        {
          "data": {
            "text/plain": [
              "1"
            ]
          },
          "execution_count": 123,
          "metadata": {},
          "output_type": "execute_result"
        }
      ],
      "source": [
        "lst2.pop(3)"
      ]
    },
    {
      "cell_type": "code",
      "execution_count": 124,
      "metadata": {
        "colab": {
          "base_uri": "https://localhost:8080/"
        },
        "id": "EagUj49RnI3q",
        "outputId": "222beea8-5f04-44ff-f8fa-34dde4a6caa7"
      },
      "outputs": [
        {
          "data": {
            "text/plain": [
              "[4, 5, 6, 2, 3, 4, 5]"
            ]
          },
          "execution_count": 124,
          "metadata": {},
          "output_type": "execute_result"
        }
      ],
      "source": [
        "lst2"
      ]
    },
    {
      "cell_type": "code",
      "execution_count": 125,
      "metadata": {
        "colab": {
          "base_uri": "https://localhost:8080/"
        },
        "id": "rlumw2zcnNGv",
        "outputId": "afd0cbb1-f3e0-47c5-f1d4-da4af78eceb6"
      },
      "outputs": [
        {
          "data": {
            "text/plain": [
              "[1, 2, 3, 4, 5, 6]"
            ]
          },
          "execution_count": 125,
          "metadata": {},
          "output_type": "execute_result"
        }
      ],
      "source": [
        "lst1"
      ]
    },
    {
      "cell_type": "code",
      "execution_count": 126,
      "metadata": {
        "id": "6-1CtkfKh1aZ"
      },
      "outputs": [],
      "source": [
        "lst1.insert(3,7)"
      ]
    },
    {
      "cell_type": "code",
      "execution_count": 127,
      "metadata": {
        "colab": {
          "base_uri": "https://localhost:8080/"
        },
        "id": "6mmeleoLjYtQ",
        "outputId": "9caa73d4-127c-463f-8cc6-007edcfea48f"
      },
      "outputs": [
        {
          "data": {
            "text/plain": [
              "[1, 2, 3, 7, 4, 5, 6]"
            ]
          },
          "execution_count": 127,
          "metadata": {},
          "output_type": "execute_result"
        }
      ],
      "source": [
        "lst1"
      ]
    },
    {
      "cell_type": "code",
      "execution_count": 130,
      "metadata": {
        "id": "xzQbAFvWjapk"
      },
      "outputs": [],
      "source": [
        "lst1.insert(0,10)"
      ]
    },
    {
      "cell_type": "code",
      "execution_count": 131,
      "metadata": {
        "colab": {
          "base_uri": "https://localhost:8080/"
        },
        "id": "uRNL8bqWjh_A",
        "outputId": "b6cc3bd8-09c0-406a-a37d-1f530d4e44c7"
      },
      "outputs": [
        {
          "data": {
            "text/plain": [
              "[10, 1, 2, 3, 7, 4, 5, 6]"
            ]
          },
          "execution_count": 131,
          "metadata": {},
          "output_type": "execute_result"
        }
      ],
      "source": [
        "lst1"
      ]
    },
    {
      "cell_type": "code",
      "execution_count": null,
      "metadata": {
        "id": "8H_pp5YEjikt"
      },
      "outputs": [],
      "source": []
    }
  ],
  "metadata": {
    "colab": {
      "provenance": []
    },
    "kernelspec": {
      "display_name": "Python 3",
      "name": "python3"
    },
    "language_info": {
      "name": "python"
    }
  },
  "nbformat": 4,
  "nbformat_minor": 0
}
