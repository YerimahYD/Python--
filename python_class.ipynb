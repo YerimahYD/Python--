{
 "cells": [
  {
   "cell_type": "code",
   "execution_count": 76,
   "id": "a8dd339f",
   "metadata": {},
   "outputs": [],
   "source": [
    "import numpy as np #is used for scientific calculation"
   ]
  },
  {
   "cell_type": "code",
   "execution_count": 77,
   "id": "909a4af6",
   "metadata": {},
   "outputs": [],
   "source": [
    "lst = [1,2,3,4,5,6,7,8,9,10]\n",
    "arr = np.array ([1,2,3,4,5,6,7,8,9,10])\n",
    "# arr = np.array(lst)"
   ]
  },
  {
   "cell_type": "code",
   "execution_count": 78,
   "id": "934123aa",
   "metadata": {},
   "outputs": [
    {
     "data": {
      "text/plain": [
       "[1, 2, 3, 4, 5, 6, 7, 8, 9, 10]"
      ]
     },
     "execution_count": 78,
     "metadata": {},
     "output_type": "execute_result"
    }
   ],
   "source": [
    "lst"
   ]
  },
  {
   "cell_type": "code",
   "execution_count": 79,
   "id": "4965d8ce",
   "metadata": {},
   "outputs": [
    {
     "data": {
      "text/plain": [
       "array([ 1,  2,  3,  4,  5,  6,  7,  8,  9, 10])"
      ]
     },
     "execution_count": 79,
     "metadata": {},
     "output_type": "execute_result"
    }
   ],
   "source": [
    "arr"
   ]
  },
  {
   "cell_type": "code",
   "execution_count": 80,
   "id": "827dbb29",
   "metadata": {},
   "outputs": [
    {
     "data": {
      "text/plain": [
       "[1, 2, 3, 4, 5, 6, 7, 8, 9, 10]"
      ]
     },
     "execution_count": 80,
     "metadata": {},
     "output_type": "execute_result"
    }
   ],
   "source": [
    "lst"
   ]
  },
  {
   "cell_type": "code",
   "execution_count": 81,
   "id": "2b49389e",
   "metadata": {},
   "outputs": [
    {
     "data": {
      "text/plain": [
       "2"
      ]
     },
     "execution_count": 81,
     "metadata": {},
     "output_type": "execute_result"
    }
   ],
   "source": [
    "lst[1]"
   ]
  },
  {
   "cell_type": "code",
   "execution_count": 82,
   "id": "2433c233",
   "metadata": {},
   "outputs": [
    {
     "data": {
      "text/plain": [
       "np.int64(5)"
      ]
     },
     "execution_count": 82,
     "metadata": {},
     "output_type": "execute_result"
    }
   ],
   "source": [
    "arr[2] + lst[1]"
   ]
  },
  {
   "cell_type": "code",
   "execution_count": 83,
   "id": "d75f8e51",
   "metadata": {},
   "outputs": [],
   "source": [
    "lst1 = [1,2,3]\n",
    "lst2 = [4,5,6]\n",
    "arr1 = np.array([1,2,3])\n",
    "arr2 = np.array([4,5,6])"
   ]
  },
  {
   "cell_type": "code",
   "execution_count": 84,
   "id": "969919f7",
   "metadata": {},
   "outputs": [
    {
     "data": {
      "text/plain": [
       "[1, 2, 3, 4, 5, 6, 7]"
      ]
     },
     "execution_count": 84,
     "metadata": {},
     "output_type": "execute_result"
    }
   ],
   "source": [
    "[1,2,3] + [4,5,6,7]"
   ]
  },
  {
   "cell_type": "code",
   "execution_count": 85,
   "id": "9cdea4df",
   "metadata": {},
   "outputs": [
    {
     "data": {
      "text/plain": [
       "[1, 2, 3, 4, 5, 6]"
      ]
     },
     "execution_count": 85,
     "metadata": {},
     "output_type": "execute_result"
    }
   ],
   "source": [
    "lst1 + lst2"
   ]
  },
  {
   "cell_type": "code",
   "execution_count": 86,
   "id": "3b9e68e6",
   "metadata": {},
   "outputs": [
    {
     "data": {
      "text/plain": [
       "array([5, 7, 9])"
      ]
     },
     "execution_count": 86,
     "metadata": {},
     "output_type": "execute_result"
    }
   ],
   "source": [
    "arr1 + arr2"
   ]
  },
  {
   "cell_type": "code",
   "execution_count": 87,
   "id": "5726eac9",
   "metadata": {},
   "outputs": [
    {
     "data": {
      "text/plain": [
       "3"
      ]
     },
     "execution_count": 87,
     "metadata": {},
     "output_type": "execute_result"
    }
   ],
   "source": [
    "len(lst1)"
   ]
  },
  {
   "cell_type": "code",
   "execution_count": 88,
   "id": "c09beb2f",
   "metadata": {},
   "outputs": [
    {
     "data": {
      "text/plain": [
       "3"
      ]
     },
     "execution_count": 88,
     "metadata": {},
     "output_type": "execute_result"
    }
   ],
   "source": [
    "len(arr1)"
   ]
  },
  {
   "cell_type": "code",
   "execution_count": 89,
   "id": "88ba0754",
   "metadata": {},
   "outputs": [
    {
     "data": {
      "text/plain": [
       "[[1, 2, 3, 4, 5], [4, 5, 6, 5, 5], [7, 8, 9, 6, 9], [10, 11, 12, 7, 10]]"
      ]
     },
     "execution_count": 89,
     "metadata": {},
     "output_type": "execute_result"
    }
   ],
   "source": [
    "list_mat = [\n",
    "    [1,2,3,4,5],\n",
    "    [4,5,6,5,5], \n",
    "    [7,8,9,6,9],\n",
    "    [10,11,12,7,10]\n",
    "]\n",
    "\n",
    "len(list_mat), len(list_mat[0])\n",
    "list_mat"
   ]
  },
  {
   "cell_type": "code",
   "execution_count": 90,
   "id": "5359360e",
   "metadata": {},
   "outputs": [
    {
     "data": {
      "text/plain": [
       "array([[ 1,  2,  3,  4,  5],\n",
       "       [ 4,  5,  6,  5,  5],\n",
       "       [ 7,  8,  9,  6,  9],\n",
       "       [10, 11, 12,  7, 10]])"
      ]
     },
     "execution_count": 90,
     "metadata": {},
     "output_type": "execute_result"
    }
   ],
   "source": [
    "np.array(list_mat)"
   ]
  },
  {
   "cell_type": "code",
   "execution_count": 91,
   "id": "227e83ea",
   "metadata": {},
   "outputs": [
    {
     "data": {
      "text/plain": [
       "[[1, 2, 3, 4, 5], [4, 5, 6, 5, 5], [7, 8, 9, 6, 9], [10, 11, 12, 7, 10]]"
      ]
     },
     "execution_count": 91,
     "metadata": {},
     "output_type": "execute_result"
    }
   ],
   "source": [
    "list_mat"
   ]
  },
  {
   "cell_type": "code",
   "execution_count": 92,
   "id": "0848b710",
   "metadata": {},
   "outputs": [
    {
     "data": {
      "text/plain": [
       "array([ 1,  2,  3,  4,  5,  6,  7,  8,  9, 10])"
      ]
     },
     "execution_count": 92,
     "metadata": {},
     "output_type": "execute_result"
    }
   ],
   "source": [
    "arr"
   ]
  },
  {
   "cell_type": "code",
   "execution_count": 93,
   "id": "d4ee66eb",
   "metadata": {},
   "outputs": [
    {
     "data": {
      "text/plain": [
       "array([[ 1,  2,  3,  4],\n",
       "       [ 4,  5,  6,  5],\n",
       "       [ 7,  8,  9,  6],\n",
       "       [10, 11, 12,  7],\n",
       "       [ 1,  2,  3,  4]])"
      ]
     },
     "execution_count": 93,
     "metadata": {},
     "output_type": "execute_result"
    }
   ],
   "source": [
    "matrix_array = np.array([[1,2,3,4],[4,5,6,5],[7,8,9,6],[10,11,12,7],[1,2,3,4]])\n",
    "matrix_array"
   ]
  },
  {
   "cell_type": "code",
   "execution_count": 94,
   "id": "5af42884",
   "metadata": {},
   "outputs": [
    {
     "data": {
      "text/plain": [
       "(5, 4)"
      ]
     },
     "execution_count": 94,
     "metadata": {},
     "output_type": "execute_result"
    }
   ],
   "source": [
    "matrix_array.shape"
   ]
  },
  {
   "cell_type": "code",
   "execution_count": 95,
   "id": "983002d5",
   "metadata": {},
   "outputs": [],
   "source": [
    "#three_d_tensor = np.array()\n",
    "scalar = np.array(5) #0d tensor\n",
    "vector = np.array ([1,2,3]) #1d tensor\n",
    "matrix = np.array([[1,2],[3,4],[5,6]]) # 2d tensor"
   ]
  },
  {
   "cell_type": "code",
   "execution_count": 101,
   "id": "2f6bccfe",
   "metadata": {},
   "outputs": [
    {
     "name": "stdout",
     "output_type": "stream",
     "text": [
      "Scalar dimensions: 0\n",
      "Vector dimensions: 1\n",
      "Matrix dimensions: 2\n"
     ]
    }
   ],
   "source": [
    "print(f'Scalar dimensions: {scalar.ndim}')\n",
    "print(f'Vector dimensions: {vector.ndim}')\n",
    "print(f'Matrix dimensions: {matrix.ndim}')"
   ]
  },
  {
   "cell_type": "code",
   "execution_count": 96,
   "id": "027fd1be",
   "metadata": {},
   "outputs": [
    {
     "data": {
      "text/plain": [
       "1"
      ]
     },
     "execution_count": 96,
     "metadata": {},
     "output_type": "execute_result"
    }
   ],
   "source": [
    "vector.ndim"
   ]
  },
  {
   "cell_type": "code",
   "execution_count": 97,
   "id": "50ea4935",
   "metadata": {},
   "outputs": [
    {
     "data": {
      "text/plain": [
       "2"
      ]
     },
     "execution_count": 97,
     "metadata": {},
     "output_type": "execute_result"
    }
   ],
   "source": [
    "matrix.ndim"
   ]
  },
  {
   "cell_type": "code",
   "execution_count": 98,
   "id": "223898d5",
   "metadata": {},
   "outputs": [
    {
     "data": {
      "text/plain": [
       "(2, 3, 3)"
      ]
     },
     "execution_count": 98,
     "metadata": {},
     "output_type": "execute_result"
    }
   ],
   "source": [
    "threed_tensor = np.array([\n",
    "    [[1,2,3],\n",
    "      [4,5,6],\n",
    "      [4,5,6]],\n",
    "    \n",
    "    [[11,12,13],\n",
    "     [14,15,16],\n",
    "    [4,5,6], ],\n",
    "    \n",
    "    # [[21,22,23],\n",
    "    #   [24,25,26]],\n",
    "])\n",
    "# (2,2,3)\n",
    "threed_tensor.shape"
   ]
  },
  {
   "cell_type": "code",
   "execution_count": 99,
   "id": "1d6dadd2",
   "metadata": {},
   "outputs": [
    {
     "data": {
      "text/plain": [
       "array([[[ 1,  2,  3],\n",
       "        [ 4,  5,  6],\n",
       "        [ 4,  5,  6]],\n",
       "\n",
       "       [[11, 12, 13],\n",
       "        [14, 15, 16],\n",
       "        [ 4,  5,  6]]])"
      ]
     },
     "execution_count": 99,
     "metadata": {},
     "output_type": "execute_result"
    }
   ],
   "source": [
    "threed_tensor"
   ]
  },
  {
   "cell_type": "code",
   "execution_count": 103,
   "id": "f4273ed7",
   "metadata": {},
   "outputs": [
    {
     "data": {
      "text/plain": [
       "3"
      ]
     },
     "execution_count": 103,
     "metadata": {},
     "output_type": "execute_result"
    }
   ],
   "source": [
    "threed_tensor.ndim"
   ]
  },
  {
   "cell_type": "code",
   "execution_count": 100,
   "id": "d9101935",
   "metadata": {},
   "outputs": [
    {
     "data": {
      "text/plain": [
       "(5, 4)"
      ]
     },
     "execution_count": 100,
     "metadata": {},
     "output_type": "execute_result"
    }
   ],
   "source": [
    "matrix_array.shape"
   ]
  },
  {
   "cell_type": "code",
   "execution_count": 64,
   "id": "58f66910",
   "metadata": {},
   "outputs": [
    {
     "data": {
      "text/plain": [
       "1"
      ]
     },
     "execution_count": 64,
     "metadata": {},
     "output_type": "execute_result"
    }
   ],
   "source": [
    "vector.ndim"
   ]
  },
  {
   "cell_type": "code",
   "execution_count": 65,
   "id": "6eb1773e",
   "metadata": {},
   "outputs": [
    {
     "data": {
      "text/plain": [
       "2"
      ]
     },
     "execution_count": 65,
     "metadata": {},
     "output_type": "execute_result"
    }
   ],
   "source": [
    "matrix.ndim"
   ]
  },
  {
   "cell_type": "code",
   "execution_count": 66,
   "id": "a3b7b7b2",
   "metadata": {},
   "outputs": [
    {
     "data": {
      "text/plain": [
       "(2, 3, 3)"
      ]
     },
     "execution_count": 66,
     "metadata": {},
     "output_type": "execute_result"
    }
   ],
   "source": [
    "threed_tensor = np.array([\n",
    "    [[1,2,3],\n",
    "     [4,5,6],\n",
    "     [4,5,6]],\n",
    "    [[11,12,13],\n",
    "     [14,25,26],\n",
    "     [4,5,6], ],\n",
    "    #[[21,22,23],\n",
    "    # [24,25,26]],\n",
    "])\n",
    "# (2,2,3)\n",
    "threed_tensor.shape"
   ]
  },
  {
   "cell_type": "code",
   "execution_count": 67,
   "id": "9a7bc872",
   "metadata": {},
   "outputs": [],
   "source": [
    "lst = [[1,\"how\", True, 3.14], 'Helo', 1]"
   ]
  },
  {
   "cell_type": "code",
   "execution_count": 68,
   "id": "636e1976",
   "metadata": {},
   "outputs": [
    {
     "data": {
      "text/plain": [
       "array([[[ 1,  2,  3],\n",
       "        [ 4,  5,  6],\n",
       "        [ 4,  5,  6]],\n",
       "\n",
       "       [[11, 12, 13],\n",
       "        [14, 25, 26],\n",
       "        [ 4,  5,  6]]])"
      ]
     },
     "execution_count": 68,
     "metadata": {},
     "output_type": "execute_result"
    }
   ],
   "source": [
    "threed_tensor"
   ]
  },
  {
   "cell_type": "code",
   "execution_count": 69,
   "id": "ddce23d1",
   "metadata": {},
   "outputs": [
    {
     "data": {
      "text/plain": [
       "3"
      ]
     },
     "execution_count": 69,
     "metadata": {},
     "output_type": "execute_result"
    }
   ],
   "source": [
    "threed_tensor.ndim"
   ]
  },
  {
   "cell_type": "code",
   "execution_count": 70,
   "id": "a1209118",
   "metadata": {},
   "outputs": [
    {
     "data": {
      "text/plain": [
       "numpy.int64"
      ]
     },
     "execution_count": 70,
     "metadata": {},
     "output_type": "execute_result"
    }
   ],
   "source": [
    "#Data types\n",
    "np.int64"
   ]
  },
  {
   "cell_type": "code",
   "execution_count": 71,
   "id": "ccf5bf95",
   "metadata": {},
   "outputs": [
    {
     "data": {
      "text/plain": [
       "numpy.int64"
      ]
     },
     "execution_count": 71,
     "metadata": {},
     "output_type": "execute_result"
    }
   ],
   "source": [
    "np.int64"
   ]
  },
  {
   "cell_type": "code",
   "execution_count": 104,
   "id": "aa0134fd",
   "metadata": {},
   "outputs": [
    {
     "data": {
      "text/plain": [
       "18446744073709551616"
      ]
     },
     "execution_count": 104,
     "metadata": {},
     "output_type": "execute_result"
    }
   ],
   "source": [
    "np.uint8(129)\n",
    "# int - int8, int16, int32, int64, uint8, uint16, unit32, unit64\n",
    "# 0000 0000\n",
    "#1111 1111\n",
    "# 1 0000 0000 \n",
    "\n",
    "2**64"
   ]
  },
  {
   "cell_type": "code",
   "execution_count": null,
   "id": "65cedadb",
   "metadata": {},
   "outputs": [],
   "source": [
    "# -128 -> 127\n",
    "# 0 -> 255"
   ]
  },
  {
   "cell_type": "code",
   "execution_count": null,
   "id": "8466399f",
   "metadata": {},
   "outputs": [
    {
     "data": {
      "text/plain": [
       "'0b100000000'"
      ]
     },
     "execution_count": 11,
     "metadata": {},
     "output_type": "execute_result"
    }
   ],
   "source": [
    "bin(256)"
   ]
  },
  {
   "cell_type": "code",
   "execution_count": 105,
   "id": "ad4e63e0",
   "metadata": {},
   "outputs": [
    {
     "data": {
      "text/plain": [
       "np.uint8(255)"
      ]
     },
     "execution_count": 105,
     "metadata": {},
     "output_type": "execute_result"
    }
   ],
   "source": [
    "np.uint8(255)"
   ]
  },
  {
   "cell_type": "code",
   "execution_count": null,
   "id": "99e7f9b4",
   "metadata": {},
   "outputs": [
    {
     "data": {
      "text/plain": [
       "255"
      ]
     },
     "execution_count": 14,
     "metadata": {},
     "output_type": "execute_result"
    }
   ],
   "source": [
    "int('11111111',2)\n",
    "# 1 0 0\n",
    "# 4 2 1\n",
    "128 + 64 + 32 + 16 + 8 + 4 + 2 + 1\n",
    "0b11111111"
   ]
  },
  {
   "cell_type": "code",
   "execution_count": null,
   "id": "4d360636",
   "metadata": {},
   "outputs": [
    {
     "data": {
      "text/plain": [
       "18446744073709551616"
      ]
     },
     "execution_count": 15,
     "metadata": {},
     "output_type": "execute_result"
    }
   ],
   "source": [
    " 2**64"
   ]
  },
  {
   "cell_type": "code",
   "execution_count": null,
   "id": "c52c28da",
   "metadata": {},
   "outputs": [],
   "source": [
    "# np.float16 -> np.float128"
   ]
  },
  {
   "cell_type": "code",
   "execution_count": 106,
   "id": "dcd0673c",
   "metadata": {},
   "outputs": [
    {
     "data": {
      "text/plain": [
       "np.float64(2.1)"
      ]
     },
     "execution_count": 106,
     "metadata": {},
     "output_type": "execute_result"
    }
   ],
   "source": [
    "np.float64(2.1)"
   ]
  },
  {
   "cell_type": "code",
   "execution_count": 107,
   "id": "8c361df1",
   "metadata": {},
   "outputs": [
    {
     "ename": "OverflowError",
     "evalue": "Python integer 256 out of bounds for uint8",
     "output_type": "error",
     "traceback": [
      "\u001b[0;31m---------------------------------------------------------------------------\u001b[0m",
      "\u001b[0;31mOverflowError\u001b[0m                             Traceback (most recent call last)",
      "Cell \u001b[0;32mIn[107], line 1\u001b[0m\n\u001b[0;32m----> 1\u001b[0m \u001b[43mnp\u001b[49m\u001b[38;5;241;43m.\u001b[39;49m\u001b[43muint8\u001b[49m\u001b[43m(\u001b[49m\u001b[38;5;241;43m256\u001b[39;49m\u001b[43m)\u001b[49m\n",
      "\u001b[0;31mOverflowError\u001b[0m: Python integer 256 out of bounds for uint8"
     ]
    }
   ],
   "source": [
    "np.uint8(256)"
   ]
  },
  {
   "cell_type": "code",
   "execution_count": 108,
   "id": "aa55cdd4",
   "metadata": {},
   "outputs": [],
   "source": [
    "arr = np.array([1,2,3,4,5, 127], dtype=np.int8)"
   ]
  },
  {
   "cell_type": "code",
   "execution_count": 110,
   "id": "e245d5d4",
   "metadata": {},
   "outputs": [
    {
     "data": {
      "text/plain": [
       "dtype('int8')"
      ]
     },
     "execution_count": 110,
     "metadata": {},
     "output_type": "execute_result"
    }
   ],
   "source": [
    "arr.dtype"
   ]
  },
  {
   "cell_type": "code",
   "execution_count": 111,
   "id": "13795767",
   "metadata": {},
   "outputs": [
    {
     "data": {
      "text/plain": [
       "array([  1,   2,   3,   4,   5, 127], dtype=int8)"
      ]
     },
     "execution_count": 111,
     "metadata": {},
     "output_type": "execute_result"
    }
   ],
   "source": [
    "arr"
   ]
  },
  {
   "cell_type": "code",
   "execution_count": 115,
   "id": "5d34edf7",
   "metadata": {},
   "outputs": [
    {
     "data": {
      "text/plain": [
       "array(['11', 'HelloHello'], dtype='<U42')"
      ]
     },
     "execution_count": 115,
     "metadata": {},
     "output_type": "execute_result"
    }
   ],
   "source": [
    "arr = np.array([1, \"Hello\"])\n",
    "arr + arr"
   ]
  },
  {
   "cell_type": "code",
   "execution_count": 113,
   "id": "55b34159",
   "metadata": {},
   "outputs": [
    {
     "data": {
      "text/plain": [
       "42"
      ]
     },
     "execution_count": 113,
     "metadata": {},
     "output_type": "execute_result"
    }
   ],
   "source": [
    "int('42')"
   ]
  },
  {
   "cell_type": "code",
   "execution_count": 120,
   "id": "f6b0d67c",
   "metadata": {},
   "outputs": [
    {
     "data": {
      "text/plain": [
       "array([[1, 2],\n",
       "       [3, 4],\n",
       "       [5, 6]])"
      ]
     },
     "execution_count": 120,
     "metadata": {},
     "output_type": "execute_result"
    }
   ],
   "source": [
    "mat = np.array([[1,2], [3,4], [5,6]])\n",
    "mat"
   ]
  },
  {
   "cell_type": "code",
   "execution_count": 121,
   "id": "c081efe0",
   "metadata": {},
   "outputs": [
    {
     "data": {
      "text/plain": [
       "'\\n       0  1\\n0 -> [ 1, 2 ]\\n1 -> [ 3, 4 ]\\n2 -> [ 5, 6 ]\\n\\n'"
      ]
     },
     "execution_count": 121,
     "metadata": {},
     "output_type": "execute_result"
    }
   ],
   "source": [
    "    '''\n",
    "           0  1\n",
    "    0 -> [ 1, 2 ]\n",
    "    1 -> [ 3, 4 ]\n",
    "    2 -> [ 5, 6 ]\n",
    "    \n",
    "    '''"
   ]
  },
  {
   "cell_type": "code",
   "execution_count": 122,
   "id": "a29ede3c",
   "metadata": {},
   "outputs": [
    {
     "data": {
      "text/plain": [
       "np.int64(3)"
      ]
     },
     "execution_count": 122,
     "metadata": {},
     "output_type": "execute_result"
    }
   ],
   "source": [
    "mat[1,0]"
   ]
  },
  {
   "cell_type": "code",
   "execution_count": 123,
   "id": "aeaa35e2",
   "metadata": {},
   "outputs": [
    {
     "data": {
      "text/plain": [
       "(3, 2)"
      ]
     },
     "execution_count": 123,
     "metadata": {},
     "output_type": "execute_result"
    }
   ],
   "source": [
    "mat.shape"
   ]
  },
  {
   "cell_type": "code",
   "execution_count": 125,
   "id": "1be7ec29",
   "metadata": {},
   "outputs": [
    {
     "data": {
      "text/plain": [
       "np.int64(1)"
      ]
     },
     "execution_count": 125,
     "metadata": {},
     "output_type": "execute_result"
    }
   ],
   "source": [
    "mat[0,0]"
   ]
  },
  {
   "cell_type": "code",
   "execution_count": 126,
   "id": "550bf2d7",
   "metadata": {},
   "outputs": [
    {
     "data": {
      "text/plain": [
       "array([[[ 1,  2,  3],\n",
       "        [ 4,  5,  6],\n",
       "        [ 4,  5,  6]],\n",
       "\n",
       "       [[11, 12, 13],\n",
       "        [14, 15, 16],\n",
       "        [ 4,  5,  6]]])"
      ]
     },
     "execution_count": 126,
     "metadata": {},
     "output_type": "execute_result"
    }
   ],
   "source": [
    "threed_tensor"
   ]
  },
  {
   "cell_type": "code",
   "execution_count": 127,
   "id": "09f3ceae",
   "metadata": {},
   "outputs": [
    {
     "data": {
      "text/plain": [
       "(2, 3, 3)"
      ]
     },
     "execution_count": 127,
     "metadata": {},
     "output_type": "execute_result"
    }
   ],
   "source": [
    "threed_tensor = np.array([\n",
    "    [ # 0\n",
    "    \n",
    "    # 0   1  2\n",
    "     [ 1, 2, 3], #0\n",
    "     [ 4, 5, 6], #1\n",
    "     [ 24,25,26] #2\n",
    "    ],\n",
    "    [ # 1\n",
    "    # 0   1  2\n",
    "     [ 11,12,13], #0\n",
    "     [ 14,15,16], #1\n",
    "     [ 34,35,36]  #2\n",
    "     \n",
    "    ],\n",
    "    # [[21,22,23],\n",
    "    # 24,25,26]],\n",
    "])\n",
    "# (2,3,3)\n",
    "threed_tensor.shape"
   ]
  },
  {
   "cell_type": "code",
   "execution_count": 130,
   "id": "6a3f90a9",
   "metadata": {},
   "outputs": [
    {
     "data": {
      "text/plain": [
       "array([[13],\n",
       "       [16],\n",
       "       [36]])"
      ]
     },
     "execution_count": 130,
     "metadata": {},
     "output_type": "execute_result"
    }
   ],
   "source": [
    "threed_tensor[1, : , 2:]"
   ]
  },
  {
   "cell_type": "code",
   "execution_count": 128,
   "id": "87e24513",
   "metadata": {},
   "outputs": [
    {
     "data": {
      "text/plain": [
       "np.int64(6)"
      ]
     },
     "execution_count": 128,
     "metadata": {},
     "output_type": "execute_result"
    }
   ],
   "source": [
    "threed_tensor[0, 1, 2]"
   ]
  },
  {
   "cell_type": "code",
   "execution_count": 129,
   "id": "5cbdd6d8",
   "metadata": {},
   "outputs": [
    {
     "data": {
      "text/plain": [
       "3"
      ]
     },
     "execution_count": 129,
     "metadata": {},
     "output_type": "execute_result"
    }
   ],
   "source": [
    "threed_tensor.ndim"
   ]
  },
  {
   "cell_type": "code",
   "execution_count": null,
   "id": "6ad89250",
   "metadata": {},
   "outputs": [],
   "source": []
  }
 ],
 "metadata": {
  "kernelspec": {
   "display_name": ".venv",
   "language": "python",
   "name": "python3"
  },
  "language_info": {
   "codemirror_mode": {
    "name": "ipython",
    "version": 3
   },
   "file_extension": ".py",
   "mimetype": "text/x-python",
   "name": "python",
   "nbconvert_exporter": "python",
   "pygments_lexer": "ipython3",
   "version": "3.9.6"
  }
 },
 "nbformat": 4,
 "nbformat_minor": 5
}
